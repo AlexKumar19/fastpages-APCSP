{
 "cells": [
  {
   "cell_type": "markdown",
   "metadata": {},
   "source": [
    "---\n",
    "toc: true\n",
    "layout: post\n",
    "description: Unit 3.9 & 3.11 Hacks\n",
    "title: Unit 3.9 & 3.11 Hacks\n",
    "categories: [markdown, csp]\n",
    "permalink: /3.9-3.11hacks/\n",
    "---"
   ]
  },
  {
   "cell_type": "markdown",
   "metadata": {},
   "source": [
    "why is it important to know that algorithms that look different can do the same thing and that algorithms that look the same might have different results?(0.15)\n",
    "- It is important to know that algorithms that look different can do the same thing so that when working with others and people have various codes it is important to open your mind to understand the code rather than rejecting it because it looks differet. It is also important to know that even code that looks similar can have different purposes so we dont jump to conclusions when evaluating code\n",
    "for the converted conditional to boolean conversion(0.10)\n",
    "total: 0.25"
   ]
  },
  {
   "cell_type": "code",
   "execution_count": 2,
   "metadata": {},
   "outputs": [
    {
     "name": "stdout",
     "output_type": "stream",
     "text": [
      "it is cold and rainy\n"
     ]
    }
   ],
   "source": [
    "sun = False\n",
    "raincloud = True\n",
    "\n",
    "if sun == True:\n",
    "    print(\"it is sunny\")\n",
    "else:\n",
    "    if raincloud == True:\n",
    "        print(\"it is cold and rainy\")\n",
    "    else:\n",
    "        print(\"not rainy or hot\")"
   ]
  },
  {
   "cell_type": "code",
   "execution_count": 1,
   "metadata": {},
   "outputs": [
    {
     "name": "stdout",
     "output_type": "stream",
     "text": [
      "it is not sunny\n"
     ]
    }
   ],
   "source": [
    "sun = False\n",
    "raincloud = True\n",
    "\n",
    "sunny = not(raincloud) and sun\n",
    "if sunny == True:\n",
    "    print(\"it is sunny\")\n",
    "if sunny ==False:\n",
    "    print(\"it is not sunny\")"
   ]
  },
  {
   "cell_type": "markdown",
   "metadata": {},
   "source": [
    "# 3.9.2\n",
    "Develop your own complex algorithm using a flowchart and natural language, then code it!\n",
    "\n",
    "![]({{site.baseurl}}/images/partysize.png)\n",
    "\n",
    "If the party has a size 1 the cost is 10\n",
    "If the party has size 2 the cost is 15\n",
    "If the party has size 3 then the cost is 20\n",
    "if the party has size 4 then the cost is 25\n",
    "print the cost of the party"
   ]
  },
  {
   "cell_type": "code",
   "execution_count": null,
   "metadata": {},
   "outputs": [],
   "source": [
    "partysize = 4\n",
    "\n",
    "if partysize ==1:\n",
    "    print(\"cost is 10\")\n",
    "elif partysize ==2:\n",
    "    print(\"cost is 15\")\n",
    "elif partysize ==3:\n",
    "    print(\"cost is 20\")\n",
    "elif partysize ==4:\n",
    "    print(\"cost is 25\")\n"
   ]
  },
  {
   "cell_type": "markdown",
   "metadata": {},
   "source": [
    "# 3.9.3\n",
    "Fix the number guessing game\n",
    "\n",
    "Make a flow chart for the algorithm number guessing game\n",
    "Make a function that gets the user guess\n",
    "Modify the existing search function to give more encouraging feedback"
   ]
  },
  {
   "cell_type": "code",
   "execution_count": 8,
   "metadata": {},
   "outputs": [
    {
     "name": "stdout",
     "output_type": "stream",
     "text": [
      "I'm thinking of a number between 1 and 100.\n",
      "You guessed 50.\n",
      "above the actual\n",
      "Guess a number between 0 and 50.\n",
      "You guessed 75.\n",
      "above the actual\n",
      "Guess a number between 0 and 75.\n",
      "You guessed 25.\n",
      "above the actual\n",
      "Guess a number between 0 and 25.\n",
      "You guessed 10.\n",
      "Guess a number between 0 and 10.\n",
      "You guessed the number in 4 guesses!\n"
     ]
    }
   ],
   "source": [
    "import random\n",
    "\n",
    "#sets variables for the game\n",
    "num_guesses = 0\n",
    "user_guess = 0\n",
    "upper_bound = 100\n",
    "lower_bound = 0\n",
    "\n",
    "#generates a random number\n",
    "number = random.randint(1,100)\n",
    "\n",
    "# print(number)     #for testing purposes\n",
    "\n",
    "print(f\"I'm thinking of a number between 1 and 100.\")\n",
    "\n",
    "#Write a function that gets a guess from the user using input()\n",
    "def guess():\n",
    "    out = input(\"What number?\")\n",
    "    return out \n",
    "\n",
    "#Change the print statements to give feedback on whether the player guessed too high or too low\n",
    "def search(number, guess):\n",
    "    global lower_bound, upper_bound\n",
    "    if int(guess) < int(number):\n",
    "        print(\"below the actual\") #change this\n",
    "        lower_bound = guess\n",
    "    elif int(guess) > int(number):\n",
    "        print(\"above the actual\") #change this\n",
    "        upper_bound = guess\n",
    "    elif int(guess) == int(number):\n",
    "        upper_bound = guess\n",
    "    return lower_bound, upper_bound\n",
    "\n",
    "\n",
    "while user_guess != number:\n",
    "    user_guess = guess()\n",
    "    num_guesses += 1\n",
    "    print(f\"You guessed {user_guess}.\")\n",
    "    lower_bound, upper_bound = search(number, user_guess)\n",
    "    if int(upper_bound) == int(number):\n",
    "        break\n",
    "    else: print(f\"Guess a number between {lower_bound} and {upper_bound}.\")\n",
    "print(f\"You guessed the number in {num_guesses} guesses!\")"
   ]
  },
  {
   "cell_type": "markdown",
   "metadata": {},
   "source": [
    "![]({{site.baseurl}}/images/guess.png)"
   ]
  }
 ],
 "metadata": {
  "kernelspec": {
   "display_name": "Python 3.8.10 64-bit",
   "language": "python",
   "name": "python3"
  },
  "language_info": {
   "codemirror_mode": {
    "name": "ipython",
    "version": 3
   },
   "file_extension": ".py",
   "mimetype": "text/x-python",
   "name": "python",
   "nbconvert_exporter": "python",
   "pygments_lexer": "ipython3",
   "version": "3.8.10"
  },
  "orig_nbformat": 4,
  "vscode": {
   "interpreter": {
    "hash": "916dbcbb3f70747c44a77c7bcd40155683ae19c65e1c03b4aa3499c5328201f1"
   }
  }
 },
 "nbformat": 4,
 "nbformat_minor": 2
}
