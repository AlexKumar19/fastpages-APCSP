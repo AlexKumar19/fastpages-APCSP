{
 "cells": [
  {
   "cell_type": "markdown",
   "metadata": {},
   "source": [
    "# Jupyter Notebook quiz\n",
    "> Basics of Python quiz\n",
    "\n",
    "- toc: true \n",
    "- badges: true\n",
    "- comments: true\n",
    "- categories: [jupyter]\n",
    "- image: images/chart-preview.png"
   ]
  },
  {
   "cell_type": "markdown",
   "metadata": {},
   "source": [
    "This is a quiz that will go over the basic vocabulary that was covered in the the jupyter document."
   ]
  },
  {
   "cell_type": "code",
   "execution_count": 9,
   "metadata": {},
   "outputs": [
    {
     "name": "stdout",
     "output_type": "stream",
     "text": [
      "Question: What function woud you use to output text?\n"
     ]
    }
   ],
   "source": [
    "#the number of correct answers\n",
    "correct = 0\n",
    "#function that takes in the question and the answer, then it determines whether the input is correct or incorrect then changes the variable correct depending on the answer\n",
    "def question(prompt, answer):\n",
    "    #prints the question\n",
    "    print(\"Question: \" + prompt)\n",
    "    #takes in the input\n",
    "    msg = input()\n",
    "    #checks if the answer is correct or not\n",
    "    if (msg).lower() == answer:\n",
    "        #prints if the message is correct\n",
    "        print(msg + \" is correct!\")\n",
    "        #changes the correct variable\n",
    "        global correct\n",
    "        correct += 1\n",
    "    #checks to see if its false\n",
    "    else:\n",
    "        #prints out that the answer is false\n",
    "        print(msg + \" is incorrect!\")\n",
    "#Questions\n",
    "question(\"What function woud you use to output text?\", \"print\")\n",
    "question(\"What function would you use to take input from the user?\", \"input\")\n",
    "question(\"What keyword do you use to define a function?\", \"def\")\n",
    "question(\"what function checks whether or not a certain condition is true or false?\", \"if\")\n",
    "Percentage = correct/4\n",
    "print(\"You got \" +str(int(Percentage*100))+\"%\")\n"
   ]
  }
 ],
 "metadata": {
  "kernelspec": {
   "display_name": "Python 3.8.10 64-bit",
   "language": "python",
   "name": "python3"
  },
  "language_info": {
   "codemirror_mode": {
    "name": "ipython",
    "version": 3
   },
   "file_extension": ".py",
   "mimetype": "text/x-python",
   "name": "python",
   "nbconvert_exporter": "python",
   "pygments_lexer": "ipython3",
   "version": "3.8.10"
  },
  "orig_nbformat": 4,
  "vscode": {
   "interpreter": {
    "hash": "916dbcbb3f70747c44a77c7bcd40155683ae19c65e1c03b4aa3499c5328201f1"
   }
  }
 },
 "nbformat": 4,
 "nbformat_minor": 2
}
