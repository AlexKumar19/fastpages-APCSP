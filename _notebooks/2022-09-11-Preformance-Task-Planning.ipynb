{
 "cells": [
  {
   "cell_type": "markdown",
   "metadata": {},
   "source": [
    "# Preformance Task planning Notebook!\n",
    "> Planning ideas and organization for the preformance task\n",
    "\n",
    "- title: Preformance Task Planning\n",
    "- toc: true\n",
    "- categories: [csp, jupyter]\n",
    "- permalink: /csp/PreformanceTaskPlanning\n",
    "- categories: [csp, jupyter]\n",
    "- tags: [python]\n",
    "- comments: true"
   ]
  },
  {
   "cell_type": "markdown",
   "metadata": {},
   "source": [
    "#  Ideas for Preformance Task edit locally.\n",
    "- Basketball NBA statistics calculator and achievement record database that you can pull from.\n",
    "  - Purpose of this will to inform people on the most recent stats so they can easily have an uderstanding of what is going on in the league so far\n",
    "- NBA player ranking based off of data\n",
    "  - This will be very good for fantasy basketball, the purpose would be to give instant ratings based off of the player statics\n",
    "- What to wear based off of the weather app\n",
    "  - To inform people what to wear so they do not have to manually check the weather and think about what would be the best to wear\n",
    "- Informational page on track, teaching about certain events, embedded quizes and statistics\n",
    "  - Help new track and field athelets choose their evens and see what is good about each event."
   ]
  },
  {
   "cell_type": "markdown",
   "metadata": {},
   "source": [
    "# Things that I need to learn\n",
    "I need to master using functions and creating them to manage the complexity of my project. Because if I were to do these complex apps such as data analytics, I would need to use many functions in order to make it run properly so I will not have to manually code everything over and over again"
   ]
  },
  {
   "cell_type": "code",
   "execution_count": null,
   "metadata": {
    "vscode": {
     "languageId": "javascript"
    }
   },
   "outputs": [],
   "source": [
    "// example of a function that I could possibly use : something I learned making my quiz\n",
    "function nextQuestion() {\n",
    "    if (quiz[question - 1].answers[selected - 1].correct) {\n",
    "      correct++;\n",
    "    }"
   ]
  },
  {
   "cell_type": "markdown",
   "metadata": {},
   "source": [
    "In this code block there is a next question function that allows the user to go to the next question. This function parses through the list with all the data checking for the right answer, and if it is correct it will update the correct variable by 1. This saves a lot of time becaue it is an algorithm that is used very often in my code. This is something that I can possibly implement into my Preformance Task"
   ]
  },
  {
   "cell_type": "markdown",
   "metadata": {},
   "source": [
    "# Resources\n",
    "Some resources that I can use is all the lecture notes and I can refer back the functions that I was able to make in my quiz. These functions that were created from the code blocks can provide the structure to making the algorithms that I will use in my preformance task. To start, I already have a good understanding of how to use javascript and use if statements and Onevent blocks. I can also ue my knowledge of variable to create the preformance task."
   ]
  }
 ],
 "metadata": {
  "kernelspec": {
   "display_name": "Python 3.8.10 64-bit",
   "language": "python",
   "name": "python3"
  },
  "language_info": {
   "name": "python",
   "version": "3.8.10"
  },
  "orig_nbformat": 4,
  "vscode": {
   "interpreter": {
    "hash": "916dbcbb3f70747c44a77c7bcd40155683ae19c65e1c03b4aa3499c5328201f1"
   }
  }
 },
 "nbformat": 4,
 "nbformat_minor": 2
}
