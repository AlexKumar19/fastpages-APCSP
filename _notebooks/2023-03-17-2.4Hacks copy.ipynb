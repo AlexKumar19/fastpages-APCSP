{
 "cells": [
  {
   "attachments": {},
   "cell_type": "markdown",
   "metadata": {},
   "source": [
    "# Unit 2.4 Hacks\n",
    "> Creating my own database connecting to my CPT project\n",
    "- toc: true\n",
    "- comments: true\n",
    "- categories: [csp, jupyter]\n",
    "- permalink: /csp/24hackstocpt\n",
    "- tags: [python]\n",
    "- comments: true"
   ]
  },
  {
   "cell_type": "code",
   "execution_count": 1,
   "metadata": {},
   "outputs": [],
   "source": [
    "from flask import Flask\n",
    "from flask_sqlalchemy import SQLAlchemy\n",
    "\n",
    "\"\"\"\n",
    "These object and definitions are used throughout the Jupyter Notebook.\n",
    "\"\"\"\n",
    "\n",
    "# Setup of key Flask object (app)\n",
    "app = Flask(__name__)\n",
    "# Setup SQLAlchemy object and properties for the database (db)\n",
    "database = 'sqlite:///sqlitebbal2.db'  # path and filename of database\n",
    "app.config['SQLALCHEMY_TRACK_MODIFICATIONS'] = False\n",
    "app.config['SQLALCHEMY_DATABASE_URI'] = database\n",
    "app.config['SECRET_KEY'] = 'SECRET_KEY'\n",
    "db = SQLAlchemy()\n",
    "\n",
    "\n",
    "# This belongs in place where it runs once per project\n",
    "db.init_app(app)"
   ]
  },
  {
   "cell_type": "code",
   "execution_count": 2,
   "metadata": {},
   "outputs": [],
   "source": [
    "import datetime\n",
    "from datetime import datetime\n",
    "import json\n",
    "\n",
    "from sqlalchemy.exc import IntegrityError\n",
    "from werkzeug.security import generate_password_hash, check_password_hash\n",
    "\n",
    "\n",
    "\n",
    "\n",
    "class Time(db.Model):\n",
    "    __tablename__ = 'users'  # table name is plural, class name is singular\n",
    "\n",
    "    id = db.Column(db.Integer, primary_key=True)\n",
    "    _task = db.Column(db.String(255), unique=False, nullable=False)\n",
    "    _timeExpected = db.Column(db.String(255), unique=True, nullable=False)\n",
    "\n",
    "    \n",
    "    def __init__(self, task, timeExpected):\n",
    "\n",
    "        self._task = task    # variables with self prefix become part of the object, \n",
    "        self._timeExpected = timeExpected\n",
    "\n",
    "    @property\n",
    "    def task(self):\n",
    "        return self._task\n",
    "    \n",
    "    # a setter function, allows name to be updated after initial object creation\n",
    "    @task.setter\n",
    "    def task(self, task):\n",
    "        self._task = task\n",
    "    \n",
    "    # a getter method, extracts uid from object\n",
    "    @property\n",
    "    def timeExpected(self):\n",
    "        return self._timeExpected\n",
    "    \n",
    "    # a setter function, allows uid to be updated after initial object creation\n",
    "    @timeExpected.setter\n",
    "    def uid(self, timeExpected):\n",
    "        self._timeExpected = timeExpected\n",
    "        \n",
    "\n",
    "\n",
    "    def __str__(self):\n",
    "        return json.dumps(self.read())\n",
    "\n",
    "    # CRUD create/add a new record to the table\n",
    "    # returns self or None on error\n",
    "    def create(self):\n",
    "        try:\n",
    "            # creates a person object from User(db.Model) class, passes initializers\n",
    "            db.session.add(self)  # add prepares to persist person object to Users table\n",
    "            db.session.commit()  # SqlAlchemy \"unit of work pattern\" requires a manual commit\n",
    "            return self\n",
    "        except IntegrityError:\n",
    "            db.session.remove()\n",
    "            return None\n",
    "\n",
    "    # CRUD read converts self to dictionary\n",
    "    # returns dictionary\n",
    "    def read(self):\n",
    "        return {\n",
    "            \"id\": self.id,\n",
    "            \"task\": self.task,\n",
    "            \"timeExpected\": self.timeExpected,\n",
    "        }\n",
    "\n",
    "    # CRUD update: updates user name, password, phone\n",
    "    # returns self\n",
    "    def update(self, task=\"\", timeExpected=\"\"):\n",
    "        self.task = task\n",
    "        db.session.commit()\n",
    "        return self\n",
    "\n",
    "    # CRUD delete: remove self\n",
    "    # None\n",
    "    def delete(self):\n",
    "        db.session.delete(self)\n",
    "        db.session.commit()\n",
    "        return None\n",
    "    # just a definition"
   ]
  },
  {
   "cell_type": "code",
   "execution_count": 3,
   "metadata": {},
   "outputs": [
    {
     "name": "stdout",
     "output_type": "stream",
     "text": [
      "Created new uid 13 minutes\n",
      "Created new uid 51 minutes\n",
      "Created new uid 16 minutes\n",
      "Created new uid 17 minutes\n",
      "Created new uid 15 minutes\n",
      "Created new uid 55 minutes\n"
     ]
    }
   ],
   "source": [
    "def initUsers():\n",
    "    with app.app_context():\n",
    "        db.create_all()\n",
    "\n",
    "        u1 = Time(task='Basketball', timeExpected=\"13 minutes\")\n",
    "        u2 = Time(task='Track', timeExpected=\"51 minutes\")\n",
    "        u3 = Time(task='math hw', timeExpected=\"16 minutes\")\n",
    "        u4 = Time(task='CSP hw', timeExpected=\"17 minutes\")\n",
    "        u5 = Time(task='Swim', timeExpected=\"15 minutes\")\n",
    "        u6 = Time(task='Drawing', timeExpected=\"55 minutes\")\n",
    "        users = [u1, u2, u3, u4, u5, u6]\n",
    "\n",
    "        \"\"\"Builds sample user/note(s) data\"\"\"\n",
    "        for user in users:\n",
    "            try:\n",
    "                '''add user to table'''\n",
    "                object = user.create()\n",
    "                print(f\"Created new uid {object.uid}\")\n",
    "            except:  # error raised if object nit created\n",
    "                '''fails with bad or duplicate data'''\n",
    "                print(f\"Records exist uid {user.uid}, or error.\")\n",
    "                \n",
    "initUsers()"
   ]
  },
  {
   "cell_type": "code",
   "execution_count": 4,
   "metadata": {},
   "outputs": [
    {
     "data": {
      "text/plain": [
       "[{'id': 1, 'task': 'Basketball', 'timeExpected': '13 minutes'},\n",
       " {'id': 2, 'task': 'Track', 'timeExpected': '51 minutes'},\n",
       " {'id': 3, 'task': 'math hw', 'timeExpected': '16 minutes'},\n",
       " {'id': 4, 'task': 'CSP hw', 'timeExpected': '17 minutes'},\n",
       " {'id': 5, 'task': 'Swim', 'timeExpected': '15 minutes'},\n",
       " {'id': 6, 'task': 'Drawing', 'timeExpected': '55 minutes'}]"
      ]
     },
     "execution_count": 4,
     "metadata": {},
     "output_type": "execute_result"
    }
   ],
   "source": [
    "def read():\n",
    "    with app.app_context():\n",
    "        table = Time.query.all()\n",
    "    json_ready = [user.read() for user in table] # \"List Comprehensions\", for each user add user.read() to list\n",
    "    return json_ready\n",
    "\n",
    "read()"
   ]
  },
  {
   "cell_type": "code",
   "execution_count": 7,
   "metadata": {},
   "outputs": [],
   "source": [
    "def find_by_task(task):\n",
    "    with app.app_context():\n",
    "        user = Time.query.filter_by(_task=task).first()\n",
    "    return user # returns user object"
   ]
  },
  {
   "cell_type": "code",
   "execution_count": 8,
   "metadata": {},
   "outputs": [
    {
     "name": "stdout",
     "output_type": "stream",
     "text": [
      "{\"id\": 5, \"task\": \"Swim\", \"timeExpected\": \"15 minutes\"}\n",
      "User deleted.\n",
      "new DB\n"
     ]
    },
    {
     "data": {
      "text/plain": [
       "[{'id': 1, 'task': 'Basketball', 'timeExpected': '13 minutes'},\n",
       " {'id': 2, 'task': 'Track', 'timeExpected': '51 minutes'},\n",
       " {'id': 3, 'task': 'math hw', 'timeExpected': '16 minutes'},\n",
       " {'id': 4, 'task': 'CSP hw', 'timeExpected': '17 minutes'},\n",
       " {'id': 6, 'task': 'Drawing', 'timeExpected': '55 minutes'}]"
      ]
     },
     "execution_count": 8,
     "metadata": {},
     "output_type": "execute_result"
    }
   ],
   "source": [
    "def deleteuser():\n",
    "    id = input(\"enter task\")\n",
    "    user = find_by_task(id)\n",
    "    print(user)\n",
    "    if user is not None:\n",
    "        with app.app_context():\n",
    "            db.session.delete(user)  \n",
    "            db.session.commit()\n",
    "        print(\"User deleted.\")\n",
    "    else:\n",
    "        print(\"User not found.\")\n",
    "    \n",
    "deleteuser()\n",
    "print(\"new DB\")\n",
    "read()"
   ]
  },
  {
   "cell_type": "code",
   "execution_count": 14,
   "metadata": {},
   "outputs": [],
   "source": [
    "def updateuser():\n",
    "    \n",
    "    id2 = input(\"id\")\n",
    "    task2= input(\"new task\")\n",
    "    with app.app_context():\n",
    "        user = Time.query.filter_by(id=id2).first()\n",
    "        user.update(task=task2)\n",
    "        db.session.commit()\n",
    "\n",
    "def read():\n",
    "    with app.app_context():\n",
    "        table = Time.query.all()\n",
    "    json_ready = [user.read() for user in table] # \"List Comprehensions\", for each user add user.read() to list\n",
    "    \n",
    "    return json_ready\n",
    "\n",
    "read()\n",
    "\n",
    "\n",
    "updateuser()"
   ]
  },
  {
   "cell_type": "code",
   "execution_count": 9,
   "metadata": {},
   "outputs": [
    {
     "name": "stdout",
     "output_type": "stream",
     "text": [
      "Created\n",
      " {'id': 7, 'task': 'Walking', 'timeExpected': '10'}\n"
     ]
    }
   ],
   "source": [
    "# Inputs, Try/Except, and SQLAlchemy work together to build a valid database object\n",
    "def create():\n",
    "    # optimize user time to see if uid exists\n",
    "    task = input(\"Enter your task\")\n",
    "    user = find_by_task(task)\n",
    "    try:\n",
    "        print(\"Found\\n\", user.read())\n",
    "        return\n",
    "    except:\n",
    "        pass # keep going\n",
    "    \n",
    "    # request value that ensure creating valid object\n",
    "    TimeExpected = input(\"Enter Time Expected\")\n",
    "    \n",
    "    # Initialize User object before date\n",
    "    user = Time(task=task, \n",
    "                timeExpected=TimeExpected, \n",
    "                )\n",
    "    \n",
    "    with app.app_context():\n",
    "        try:\n",
    "            object = user.create()\n",
    "            print(\"Created\\n\", object.read())\n",
    "        except:  # error raised if object not created\n",
    "            print(\"Unknown error uid {uid}\")\n",
    "        \n",
    "create()"
   ]
  },
  {
   "attachments": {},
   "cell_type": "markdown",
   "metadata": {},
   "source": [
    "# Menu "
   ]
  },
  {
   "cell_type": "code",
   "execution_count": 21,
   "metadata": {},
   "outputs": [
    {
     "data": {
      "text/plain": [
       "[{'id': 1, 'task': 'Basketball', 'timeExpected': '13 minutes'},\n",
       " {'id': 2, 'task': 'soccer', 'timeExpected': '51 minutes'},\n",
       " {'id': 3, 'task': 'math hw', 'timeExpected': '16 minutes'},\n",
       " {'id': 4, 'task': 'CSP hw', 'timeExpected': '17 minutes'},\n",
       " {'id': 6, 'task': 'Drawing', 'timeExpected': '55 minutes'},\n",
       " {'id': 7, 'task': 'Walking', 'timeExpected': '10'},\n",
       " {'id': 8, 'task': 'bathroom', 'timeExpected': '20'}]"
      ]
     },
     "execution_count": 21,
     "metadata": {},
     "output_type": "execute_result"
    }
   ],
   "source": [
    "def process():\n",
    "    endpoint = input(\"r for read, d for delete, u for update, c for create\")\n",
    "    if endpoint == \"r\":\n",
    "        with app.app_context():\n",
    "            table = Time.query.all()\n",
    "            json_ready = [user.read() for user in table] # \"List Comprehensions\", for each user add user.read() to list\n",
    "        return json_ready\n",
    "    elif endpoint == \"d\":\n",
    "        deleteuser()\n",
    "    elif endpoint == \"u\":\n",
    "        updateuser()\n",
    "    elif endpoint == \"c\":\n",
    "        create()\n",
    "    else:\n",
    "        print('function not found')\n",
    "\n",
    "\n",
    "process()"
   ]
  }
 ],
 "metadata": {
  "kernelspec": {
   "display_name": "base",
   "language": "python",
   "name": "python3"
  },
  "language_info": {
   "codemirror_mode": {
    "name": "ipython",
    "version": 3
   },
   "file_extension": ".py",
   "mimetype": "text/x-python",
   "name": "python",
   "nbconvert_exporter": "python",
   "pygments_lexer": "ipython3",
   "version": "3.9.12"
  },
  "orig_nbformat": 4
 },
 "nbformat": 4,
 "nbformat_minor": 2
}
