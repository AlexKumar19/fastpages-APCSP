{
 "cells": [
  {
   "attachments": {},
   "cell_type": "markdown",
   "metadata": {},
   "source": [
    "# Hacks for Unit 3.14 to 3.15\n",
    "> Libraries\n",
    "- toc: true\n",
    "- comments: true\n",
    "- categories: [csp, jupyter]\n",
    "- permalink: /csp/39311hacks\n",
    "- tags: [python]\n",
    "- comments: true"
   ]
  },
  {
   "attachments": {},
   "cell_type": "markdown",
   "metadata": {},
   "source": [
    "Hacks 3.14.1\n",
    "Write a program that uses a library/libraries in any sort of manner.\n",
    "Explain your work/code"
   ]
  },
  {
   "cell_type": "code",
   "execution_count": 5,
   "metadata": {},
   "outputs": [
    {
     "name": "stdout",
     "output_type": "stream",
     "text": [
      "99\n"
     ]
    }
   ],
   "source": [
    "import random\n",
    "import math\n",
    "num = random.random()*100\n",
    "print(math.floor(num))"
   ]
  },
  {
   "attachments": {},
   "cell_type": "markdown",
   "metadata": {},
   "source": [
    "This code uses the math library and the random library to get a random whole number between 0 and 100"
   ]
  },
  {
   "attachments": {},
   "cell_type": "markdown",
   "metadata": {},
   "source": [
    "Hacks 3.15.1\n",
    "Write a few lines of code that implements the import function\n"
   ]
  },
  {
   "cell_type": "code",
   "execution_count": 11,
   "metadata": {},
   "outputs": [
    {
     "data": {
      "text/plain": [
       "-0.9999999999964793"
      ]
     },
     "execution_count": 11,
     "metadata": {},
     "output_type": "execute_result"
    }
   ],
   "source": [
    "import math\n",
    "math.cos(3.14159)"
   ]
  },
  {
   "attachments": {},
   "cell_type": "markdown",
   "metadata": {},
   "source": [
    "Define what an import random function do\n",
    "\n",
    "- The import random function finds the random library and allows the user to have access to many different functions\n",
    "\n",
    "List a few other things that we can import other than random\n",
    "- We can import math and this gives us access to many different operators and math functionality\n"
   ]
  },
  {
   "attachments": {},
   "cell_type": "markdown",
   "metadata": {},
   "source": [
    "Hacks 3.15.2\n",
    "For your hacks you need to create a random number generator that will simulate this situation:\n",
    "There is a spinner divided into eight equal parts. 3 parts of the spinner are green, two parts are blue, one part is purple, one part is red, and one part is orange. How can you simulate this situation using a random number generator.\n",
    "\n",
    "Also answer this question: What numbers can be outputted from RANDOM(12,20) and what numbers are excluded?"
   ]
  },
  {
   "cell_type": "code",
   "execution_count": 26,
   "metadata": {},
   "outputs": [
    {
     "name": "stdout",
     "output_type": "stream",
     "text": [
      "purple\n"
     ]
    }
   ],
   "source": [
    "import random\n",
    "import math\n",
    "def generator(range):\n",
    "    return math.floor(random.random()*range)\n",
    "number = generator(8)\n",
    "if number <= 3:\n",
    "    print(\"green\")\n",
    "elif number > 3 and number <6:\n",
    "    print(\"blue\")\n",
    "elif number ==6:\n",
    "    print(\"purple\")\n",
    "elif number==7:\n",
    "    print(\"orange\")\n",
    "elif number==8:\n",
    "    print(\"red\")"
   ]
  },
  {
   "attachments": {},
   "cell_type": "markdown",
   "metadata": {},
   "source": [
    "Also answer this question: What numbers can be outputted from RANDOM(12,20) and what numbers are excluded?\n",
    "\n",
    "- RANDOM(12,20) will include all numbers between 12 and 20 including 12 and 20. According to Savan"
   ]
  }
 ],
 "metadata": {
  "kernelspec": {
   "display_name": "Python 3",
   "language": "python",
   "name": "python3"
  },
  "language_info": {
   "codemirror_mode": {
    "name": "ipython",
    "version": 3
   },
   "file_extension": ".py",
   "mimetype": "text/x-python",
   "name": "python",
   "nbconvert_exporter": "python",
   "pygments_lexer": "ipython3",
   "version": "3.8.10"
  },
  "orig_nbformat": 4,
  "vscode": {
   "interpreter": {
    "hash": "916dbcbb3f70747c44a77c7bcd40155683ae19c65e1c03b4aa3499c5328201f1"
   }
  }
 },
 "nbformat": 4,
 "nbformat_minor": 2
}
