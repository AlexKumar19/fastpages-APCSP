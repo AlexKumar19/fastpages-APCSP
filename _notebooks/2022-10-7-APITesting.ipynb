{
 "cells": [
  {
   "cell_type": "markdown",
   "metadata": {},
   "source": [
    "# API Testing!\n",
    "> Using an API to important data for our Scrum Project\n",
    "\n",
    "- toc: true\n",
    "- comments: true\n",
    "- categories: [csp, jupyter]\n",
    "- permalink: /csp/APITestingnotebook\n",
    "- tags: [python]\n",
    "- comments: true"
   ]
  },
  {
   "cell_type": "markdown",
   "metadata": {},
   "source": [
    "# Using an API!"
   ]
  },
  {
   "cell_type": "markdown",
   "metadata": {},
   "source": [
    "Here I use the code from RapidAPI to import the data from the Inspirational quote database. The RapidAPI key is specific for me and allows for me to access the API with spam protection. The RapidAPI host directs me the proper API that I want data from!"
   ]
  },
  {
   "cell_type": "code",
   "execution_count": 2,
   "metadata": {},
   "outputs": [],
   "source": [
    "import requests\n",
    "\n",
    "url = \"https://pquotes.p.rapidapi.com/api/quote\"\n",
    "\n",
    "headers = {\n",
    "\t\"content-type\": \"application/json\",\n",
    "\t\"X-RapidAPI-Key\": \"f8c1edc71amsh2ceb94e75170cf3p1172ddjsn28d9990da6a6\",\n",
    "\t\"X-RapidAPI-Host\": \"pquotes.p.rapidapi.com\"\n",
    "}\n"
   ]
  },
  {
   "cell_type": "markdown",
   "metadata": {},
   "source": [
    "After Setting the parameters for the API, I now used the .request function "
   ]
  },
  {
   "cell_type": "code",
   "execution_count": 5,
   "metadata": {},
   "outputs": [
    {
     "name": "stdout",
     "output_type": "stream",
     "text": [
      "Your random inspirational quote is, \"The bad news is time flies. The good news is you’re the pilot.\"\n",
      " -- –Michael Altshuler\n"
     ]
    }
   ],
   "source": [
    "response = requests.request(\"POST\", url, json={\"topic\": \"motivation\"}, headers=headers).json() #This uses the .request function that sends a post request to the API to retrieve data\n",
    "quote = response[\"quote\"] #Sets the variable quote to the quote inside of the API\n",
    "author = response[\"by\"] #sets author to the author inside of the API\n",
    "print(\"Your random inspirational quote is, \\\"\" +quote +\"\\\"\" \"\\n\", \"--\", author) # Outputs the quote using print()"
   ]
  },
  {
   "cell_type": "markdown",
   "metadata": {},
   "source": [
    "Now with this API, we can retrieve random inspiration quotes. This is very beneficial for our website because now we have access to 1000s of quotes and we can use this to provide inspiration to users. Our app is based on inspiration and these quotes would help push people to reach for their goals!"
   ]
  },
  {
   "cell_type": "markdown",
   "metadata": {},
   "source": [
    "# Making my own API!"
   ]
  },
  {
   "cell_type": "code",
   "execution_count": 22,
   "metadata": {},
   "outputs": [],
   "source": [
    "import random\n",
    "import math\n",
    "from flask import Flask, request\n",
    "app = Flask(__name__) # Creating the flask application\n",
    "# Creating the array of quotes for the API to parse through\n",
    "quotes = [\"The sky is the limit - Kalani\", \"The celling is the roof - Micheal Jordan\", \"You miss 100%\\ of the shots you don't take -Wayne Gretsky\", \"hehe - Navan\", \"JSON! - Mort\"]\n",
    "# Creates a function that uses random to generate a random number whithin the range of the quotes array\n",
    "def randomgen():\n",
    "    number = int(random.random()*len(quotes))\n",
    "    return number\n",
    "# Creating the GET endpoint, so when we call it using /get, it will call to the randomgen function and return the quote from the array\n",
    "@app.route('/get', methods=['GET']) \n",
    "def get():\n",
    "    return {\"connection\": \"succesful\", \"Your quote is\" : quotes[randomgen()]}\n",
    "\n"
   ]
  }
 ],
 "metadata": {
  "kernelspec": {
   "display_name": "Python 3.9.12 ('base')",
   "language": "python",
   "name": "python3"
  },
  "language_info": {
   "codemirror_mode": {
    "name": "ipython",
    "version": 3
   },
   "file_extension": ".py",
   "mimetype": "text/x-python",
   "name": "python",
   "nbconvert_exporter": "python",
   "pygments_lexer": "ipython3",
   "version": "3.9.12"
  },
  "orig_nbformat": 4,
  "vscode": {
   "interpreter": {
    "hash": "126971108c560ce75295ac26010652a3ef02492d6f02a0c6c09b249494330c5a"
   }
  }
 },
 "nbformat": 4,
 "nbformat_minor": 2
}
