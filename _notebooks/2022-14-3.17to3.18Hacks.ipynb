{
 "cells": [
  {
   "attachments": {},
   "cell_type": "markdown",
   "metadata": {},
   "source": [
    "# Hacks for Unit 3.17 and 3.18\n",
    "> Algorithm Efficiency and Undecidable Problems\n",
    "- toc: true\n",
    "- comments: true\n",
    "- categories: [csp, jupyter, ]\n",
    "- permalink: /csp/317hacks\n",
    "- tags: [python]"
   ]
  },
  {
   "attachments": {},
   "cell_type": "markdown",
   "metadata": {},
   "source": [
    "Hacks/Assignment\n",
    "Take the two codes above and combine them so one imput gives the output that contains both the hailstone numbers and the number of iterations it takes i = 1. The more efficient the code, the higher your grade will be. (Algorithm Efficency) (.25)"
   ]
  },
  {
   "cell_type": "code",
   "execution_count": 7,
   "metadata": {},
   "outputs": [
    {
     "name": "stdout",
     "output_type": "stream",
     "text": [
      "5\n",
      "[16, 8, 4, 2, 1]\n"
     ]
    }
   ],
   "source": [
    "num = []\n",
    "count = 0\n",
    "def collatz(i):\n",
    "    global count\n",
    "    global num\n",
    "    while i > 1:\n",
    "        if (i % 2):\n",
    "            # i is odd\n",
    "            i = 3*i + 1\n",
    "            count +=1\n",
    "            num.append(i)\n",
    "\n",
    "        else:\n",
    "            # i is even\n",
    "            i = i//2\n",
    "            count +=1\n",
    "            num.append(i)\n",
    "    else:\n",
    "        print(count)\n",
    "        print(num)\n",
    " \n",
    " \n",
    "i = int(input('Enter i: '))\n",
    "collatz(i)"
   ]
  },
  {
   "attachments": {},
   "cell_type": "markdown",
   "metadata": {},
   "source": [
    "Hacks/assignment\n",
    "Write 2 algorithms: One is efficent and one is innefficent, then explain why one is efficent while the other isn't. (.25)\n",
    "Explain why one algorithm is more efficient than another using mathematical and/or formal reasoning. (.25)\n",
    "use variables, if statements, and loops to program your algorithm and upload to jupyter notebooks/ fastpages. (.25)"
   ]
  },
  {
   "cell_type": "code",
   "execution_count": 4,
   "metadata": {},
   "outputs": [
    {
     "name": "stdout",
     "output_type": "stream",
     "text": [
      "3600\n"
     ]
    }
   ],
   "source": [
    "num = [1,2,3,4,5,6,7,8,9,10,1,2,3,4,5,6,7,8,9]\n",
    "sum = num[0] + num[1] + num[2] + num[3] + num[4] + num[5] + num[6] + num[7] + num[8] + num[9] + num[10] + num[11] + num[12] + num[13] + num[14] + num[15] + num[16] + num[17] + num[18] +num[0] + num[1] + num[2] + num[3] + num[4] + num[5] + num[6] + num[7] + num[8] + num[9] + num[10] + num[11] + num[12] + num[13] + num[14] + num[15] + num[16] + num[17] + num[18]\n",
    "sum2 = sum + sum +sum + sum + sum + sum + sum + sum + sum + sum + sum +sum + sum + sum + sum + sum + sum + sum\n",
    "\n",
    "print(sum2)"
   ]
  },
  {
   "cell_type": "code",
   "execution_count": 2,
   "metadata": {},
   "outputs": [
    {
     "name": "stdout",
     "output_type": "stream",
     "text": [
      "3600\n"
     ]
    }
   ],
   "source": [
    "num = [1,2,3,4,5,6,7,8,9,10,1,2,3,4,5,6,7,8,9]\n",
    "print(36*sum(num))"
   ]
  },
  {
   "attachments": {},
   "cell_type": "markdown",
   "metadata": {},
   "source": [
    "The bottom one is more efficient because it uses built in functions to add the numbers instead of having to add each one individually which takes a long time. Then adding the sum everytime is even more inneficient"
   ]
  },
  {
   "cell_type": "code",
   "execution_count": 3,
   "metadata": {},
   "outputs": [
    {
     "name": "stdout",
     "output_type": "stream",
     "text": [
      "3600\n"
     ]
    }
   ],
   "source": [
    "num = [1,2,3,4,5,6,7,8,9,10,1,2,3,4,5,6,7,8,9]\n",
    "if True:\n",
    "    sum = 0\n",
    "    for i in num:\n",
    "        sum += num[i-1]\n",
    "    print(sum*36)"
   ]
  }
 ],
 "metadata": {
  "kernelspec": {
   "display_name": "Python 3",
   "language": "python",
   "name": "python3"
  },
  "language_info": {
   "codemirror_mode": {
    "name": "ipython",
    "version": 3
   },
   "file_extension": ".py",
   "mimetype": "text/x-python",
   "name": "python",
   "nbconvert_exporter": "python",
   "pygments_lexer": "ipython3",
   "version": "3.8.10"
  },
  "orig_nbformat": 4,
  "vscode": {
   "interpreter": {
    "hash": "916dbcbb3f70747c44a77c7bcd40155683ae19c65e1c03b4aa3499c5328201f1"
   }
  }
 },
 "nbformat": 4,
 "nbformat_minor": 2
}
