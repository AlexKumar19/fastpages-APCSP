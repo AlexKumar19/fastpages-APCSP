{
 "cells": [
  {
   "attachments": {},
   "cell_type": "markdown",
   "metadata": {},
   "source": [
    "# Hacks for Unit 3.16\n",
    "> Simulation Hacks\n",
    "- toc: true\n",
    "- comments: true\n",
    "- categories: [csp, jupyter, ]\n",
    "- permalink: /csp/316hacks\n",
    "- tags: [python]\n",
    "- comments: trues"
   ]
  },
  {
   "attachments": {},
   "cell_type": "markdown",
   "metadata": {},
   "source": [
    "- What makes it a simulation?\n",
    "  - A simulation is a automated process made to replicate a situation to get the output or practice.\n",
    "- What are it’s advantages and disadvantages? \n",
    "  - Some advantages are that it is easier and it takes less resources to actually do vs an experiment where is can be costly and hard. A disadvantage is that it is not as accurate as it does not take into account the outside factors\n",
    "- In your opinion, would an experiment be better in this situation?\n",
    "  - It depends on the situation"
   ]
  },
  {
   "attachments": {},
   "cell_type": "markdown",
   "metadata": {},
   "source": [
    "Hack #1 (0.3)\n",
    "Create an idea for a simulation and describe it (you don’t actually have to code it just think about/answer the guiding questions).\n",
    "- You can simulate picking a random card from a deck of cards\n",
    "- Since there are 52 cards you will need to have some type of random number generator and assign each number to a card so when it randomly picks a card it will match it to a number\n",
    "- This is a simulation because it is not real and uses code to replicate\n",
    "- Its easier than actually picking a card however it is not accurate\n",
    "- I think an experiment would be better because sometimes when picking cards it is not alwas exactly random"
   ]
  },
  {
   "attachments": {},
   "cell_type": "markdown",
   "metadata": {},
   "source": [
    "Hack #2 (0.1)\n",
    "Simulations Quiz (either screenshot or paste quiz in your notebook)\n"
   ]
  },
  {
   "cell_type": "code",
   "execution_count": 1,
   "metadata": {},
   "outputs": [
    {
     "name": "stdout",
     "output_type": "stream",
     "text": [
      "Welcome to the Simulations Quiz!\n",
      "\n",
      " True or False: Simulations will always have the same result. \n",
      " A: True, \n",
      " B: False\n",
      "You said:  B\n",
      "Correct!\n",
      "\n",
      " True or False: A simulation has results that are more accurate than an experiment \n",
      " A: True, \n",
      " B: False\n",
      "You said:  B\n",
      "Correct!\n",
      "\n",
      " True or False: A simulation can model real world events that are not practical for experiments \n",
      " A: True, \n",
      " B: False\n",
      "You said:  A\n",
      "Correct!\n",
      "\n",
      " Which one of these is FALSE regarding simulations \n",
      " A: Reduces Costs, \n",
      " B: Is safer than real life experiments, \n",
      " C: More Efficient, \n",
      " D: More accurate than real life experiments\n",
      "You said:  D\n",
      "Correct!\n",
      "\n",
      " Which of the following scenarios would be the LEAST beneficial to have as a simulation \n",
      " A: A retail company wants to identify the item which sold the most on their website, \n",
      " B: A restaurant wants to determine if the use of robots will increase efficiency, \n",
      " C: An insurance company wants to study the impact of rain on car accidents, \n",
      " D: A sports car company wants to study design changes to their new bike design \n",
      "You said:  A\n",
      "Correct!\n",
      "\n",
      " Which of the following is better to do as a simulation than as a calculation \n",
      " A: Keeping score at a basketball game, \n",
      " B: Keeping track of how many games a person has won, \n",
      " C: Determining the average grade for a group of tests, \n",
      " D: Studying the impact of carbon emissions on the environment\n",
      "You said:  D\n",
      "Correct!\n",
      "You scored:  6 /6\n"
     ]
    }
   ],
   "source": [
    "questions_number = 6\n",
    "answers_correct = 0\n",
    "questions = [\n",
    "    \"True or False: Simulations will always have the same result. \\n A: True, \\n B: False\",\n",
    "    \"True or False: A simulation has results that are more accurate than an experiment \\n A: True, \\n B: False\",\n",
    "    \"True or False: A simulation can model real world events that are not practical for experiments \\n A: True, \\n B: False\",\n",
    "    \"Which one of these is FALSE regarding simulations \\n A: Reduces Costs, \\n B: Is safer than real life experiments, \\n C: More Efficient, \\n D: More accurate than real life experiments\",\n",
    "    \"Which of the following scenarios would be the LEAST beneficial to have as a simulation \\n A: A retail company wants to identify the item which sold the most on their website, \\n B: A restaurant wants to determine if the use of robots will increase efficiency, \\n C: An insurance company wants to study the impact of rain on car accidents, \\n D: A sports car company wants to study design changes to their new bike design \",\n",
    "    \"Which of the following is better to do as a simulation than as a calculation \\n A: Keeping score at a basketball game, \\n B: Keeping track of how many games a person has won, \\n C: Determining the average grade for a group of tests, \\n D: Studying the impact of carbon emissions on the environment\"\n",
    "]\n",
    "question_answers = [\n",
    "    \"B\",\n",
    "    \"B\",\n",
    "    \"A\",\n",
    "    \"D\",\n",
    "    \"A\",\n",
    "    \"D\"\n",
    "]\n",
    "\n",
    "print(\"Welcome to the Simulations Quiz!\")\n",
    "\n",
    "def ask_question (question, answer):\n",
    "    print(\"\\n\", question)\n",
    "    user_answer = input(question)\n",
    "    print(\"You said: \", user_answer)\n",
    "\n",
    "    if user_answer == answer:\n",
    "        print(\"Correct!\")\n",
    "        global answers_correct\n",
    "        answers_correct = answers_correct + 1\n",
    "    else:\n",
    "        print(\"You are incorrect\")\n",
    "    \n",
    "for num in range(questions_number):\n",
    "    ask_question(questions[num], question_answers[num])\n",
    "\n",
    "print(\"You scored: \", answers_correct, \"/6\")"
   ]
  },
  {
   "attachments": {},
   "cell_type": "markdown",
   "metadata": {},
   "source": [
    "Hack #3 (0.2)\n",
    "Describe the rolling dice simulation (answer guiding questions)\n",
    "- This rolling dice simulation is a simulation because you are not actually rolling the dice instead you are creating code to replicate it. \n",
    "- It is more efficient and you don't actually need the dice to replicate it. It is less accurate than having an experiment because depending on the way you roll the dice it is not always exactly random\n",
    "- In my opinion I think that in order to have proper results, rolling the dice by hand would be better because there are definitely outside factors"
   ]
  },
  {
   "cell_type": "markdown",
   "metadata": {},
   "source": [
    "Hack #4 (0.3)\n",
    "Add a feature onto the rolling dice simulation above\n",
    "ex: a 14-sided dice or expand the purpose of the simulation (hint: use conditionals to make dice part of a game/real life situation)"
   ]
  },
  {
   "cell_type": "code",
   "execution_count": 5,
   "metadata": {},
   "outputs": [
    {
     "name": "stdout",
     "output_type": "stream",
     "text": [
      "random colors: ['blue', 'purple', 'blue']\n"
     ]
    }
   ],
   "source": [
    "def parse_input(input_string):\n",
    "    if input_string.strip() in {\"1\", \"2\", \"3\",\"4\", \"5\", \"6\"}:\n",
    "        return int(input_string)\n",
    "    else:\n",
    "        print(\"Please enter a number from 1 to 6.\")\n",
    "        raise SystemExit(1)\n",
    "\n",
    "import random\n",
    "\n",
    "def roll_dice(num_dice):\n",
    "    roll_results = []\n",
    "    for _ in range(num_dice):\n",
    "        roll = random.randint(1, 6)\n",
    "        roll_results.append(roll)\n",
    "    return roll_results\n",
    "\n",
    "\n",
    "num_dice_input = input(\"How many dice do you want to roll? [1-6] \")\n",
    "num_dice = parse_input(num_dice_input)\n",
    "roll_results = roll_dice(num_dice)\n",
    "\n",
    "Colors = []\n",
    "# New Feature\n",
    "for i in roll_results:\n",
    "    if i == 1:\n",
    "        Colors.append(\"red\")\n",
    "    if i ==2:\n",
    "        Colors.append(\"blue\")\n",
    "    if i==3:\n",
    "        Colors.append(\"black\")\n",
    "    if i ==4:\n",
    "        Colors.append(\"green\")\n",
    "    if i ==5:\n",
    "        Colors.append(\"grey\")\n",
    "    if i ==6:\n",
    "        Colors.append(\"purple\")\n",
    "\n",
    "\n",
    "print(\"random colors:\", Colors) "
   ]
  },
  {
   "attachments": {},
   "cell_type": "markdown",
   "metadata": {},
   "source": [
    "Extra Credit (0.1)\n",
    "For the extra 0.1: try coding a simple simulation and describe it (guiding question)"
   ]
  },
  {
   "cell_type": "code",
   "execution_count": 9,
   "metadata": {},
   "outputs": [
    {
     "name": "stdout",
     "output_type": "stream",
     "text": [
      "rainy\n"
     ]
    }
   ],
   "source": [
    "import random\n",
    "num = random.randrange(0,5)\n",
    "weather = [\"rainy\", 'thunder', 'snowy', 'windy', 'sunny']\n",
    "print(weather[num])"
   ]
  },
  {
   "attachments": {},
   "cell_type": "markdown",
   "metadata": {},
   "source": [
    "In this simulation that I created, it uses the random library to get a random number in the range (0,5)\n",
    "Once this number is generated it goes through the weather list and goes in with the index of the random numer to generate a random weather\n",
    "This is a good simulation because it generates a random weather and this can show the weather of a day\n",
    "\n",
    "- This is a simulation because it is just generating a random weather based off of code rather than real life factors\n",
    "- Its good because it is easy to use and you do not need access to expensive weather measuring tools however it is definitely innaccurate\n",
    "- I think it would be better to have a real experiment because this way in my simulation, it is innacurate"
   ]
  }
 ],
 "metadata": {
  "kernelspec": {
   "display_name": "Python 3",
   "language": "python",
   "name": "python3"
  },
  "language_info": {
   "codemirror_mode": {
    "name": "ipython",
    "version": 3
   },
   "file_extension": ".py",
   "mimetype": "text/x-python",
   "name": "python",
   "nbconvert_exporter": "python",
   "pygments_lexer": "ipython3",
   "version": "3.8.10"
  },
  "orig_nbformat": 4,
  "vscode": {
   "interpreter": {
    "hash": "916dbcbb3f70747c44a77c7bcd40155683ae19c65e1c03b4aa3499c5328201f1"
   }
  }
 },
 "nbformat": 4,
 "nbformat_minor": 2
}
