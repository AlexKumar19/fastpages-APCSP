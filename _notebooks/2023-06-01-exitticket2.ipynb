{
 "cells": [
  {
   "attachments": {},
   "cell_type": "markdown",
   "metadata": {},
   "source": [
    "# Js exit ticket 2\n",
    "> second demo of js\n",
    "- toc: true\n",
    "- comments: true\n",
    "- categories: [csp, jupyter]\n",
    "- permalink: /csp/ExitTicketsecond\n",
    "- tags: [python]\n",
    "- comments: true"
   ]
  },
  {
   "cell_type": "code",
   "execution_count": 23,
   "metadata": {},
   "outputs": [
    {
     "data": {
      "text/html": [
       "\n",
       "<style>\n",
       "@keyframes click {\n",
       "    0% { transform: scale(1); }\n",
       "    50% { transform: scale(1.1); }\n",
       "    100% { transform: scale(1); }\n",
       "}\n",
       "\n",
       "button:active {\n",
       "    animation: click 0.1s;\n",
       "}\n",
       "</style>\n",
       "\n",
       "<div id=\"score2\">Score: 0</div>\n",
       "<div id=\"highscore2\">High Score: 0</div>\n",
       "<button id=\"clicker-button2\" onclick=\"incrementScore()\">Click me!</button>\n",
       "\n",
       "<script>\n",
       "var score = 0;\n",
       "var highScore = 0;\n",
       "\n",
       "function incrementScore() {\n",
       "    score += 1;\n",
       "    document.getElementById('score2').innerText = \"Score: \" + score;\n",
       "    \n",
       "    // check if the current score is higher than the high score\n",
       "    if (score > highScore) {\n",
       "        highScore = score;\n",
       "        document.getElementById('highscore2').innerText = \"High Score: \" + highScore;\n",
       "    }\n",
       "}\n",
       "</script>\n"
      ],
      "text/plain": [
       "<IPython.core.display.HTML object>"
      ]
     },
     "metadata": {},
     "output_type": "display_data"
    }
   ],
   "source": [
    "%%html\n",
    "\n",
    "<style>\n",
    "@keyframes click {\n",
    "    0% { transform: scale(1); }\n",
    "    50% { transform: scale(1.1); }\n",
    "    100% { transform: scale(1); }\n",
    "}\n",
    "\n",
    "button:active {\n",
    "    animation: click 0.1s;\n",
    "}\n",
    "</style>\n",
    "\n",
    "<div id=\"score2\">Score: 0</div>\n",
    "<div id=\"highscore2\">High Score: 0</div>\n",
    "<button id=\"clicker-button2\" onclick=\"incrementScore()\">Click me!</button>\n",
    "\n",
    "<script>\n",
    "var score = 0;\n",
    "var highScore = 0;\n",
    "\n",
    "function incrementScore() {\n",
    "    score += 1;\n",
    "    document.getElementById('score2').innerText = \"Score: \" + score;\n",
    "    \n",
    "    // check if the current score is higher than the high score\n",
    "    if (score > highScore) {\n",
    "        highScore = score;\n",
    "        document.getElementById('highscore2').innerText = \"High Score: \" + highScore;\n",
    "    }\n",
    "}\n",
    "</script>\n"
   ]
  },
  {
   "attachments": {},
   "cell_type": "markdown",
   "metadata": {},
   "source": []
  },
  {
   "cell_type": "code",
   "execution_count": 24,
   "metadata": {},
   "outputs": [
    {
     "data": {
      "text/html": [
       "\n",
       "<style>\n",
       "#clicker-button1 {\n",
       "    width: 100px;\n",
       "    height: 100px;\n",
       "    border: none;\n",
       "    outline: none;\n",
       "    background: url('/home/alexkumar/vscode/fastpages-APCSP/_notebooks/monkey-head-with-pixel-art-illustration-free-vector-PhotoRoom.png-PhotoRoom.png') no-repeat;\n",
       "    background-size: cover;\n",
       "    cursor: pointer;\n",
       "    transition: transform 0.3s;\n",
       "}\n",
       "</style>\n",
       "\n",
       "<div id=\"score1\">Score: 0</div>\n",
       "<div id=\"highscore1\">High Score: 0</div>\n",
       "<button id=\"clicker-button1\" onclick=\"incrementScore()\"></button>\n",
       "\n",
       "<script>\n",
       "var score = 0;\n",
       "var highScore = 0;\n",
       "var growth = 1.0;  // The button's initial size (as a scaling factor)\n",
       "\n",
       "function incrementScore() {\n",
       "    score += 1;\n",
       "    document.getElementById('score1').innerText = \"Score: \" + score;\n",
       "    \n",
       "    // check if the current score is higher than the high score\n",
       "    if (score > highScore) {\n",
       "        highScore = score;\n",
       "        document.getElementById('highscore1').innerText = \"High Score: \" + highScore;\n",
       "    }\n",
       "\n",
       "    // increase the button's size by 1% for each click, up to a maximum of 50% increase\n",
       "    if (growth < 3) {\n",
       "        growth += 0.01;\n",
       "        document.getElementById('clicker-button1').style.transform = 'scale(' + growth + ')';\n",
       "    }\n",
       "}\n",
       "</script>\n"
      ],
      "text/plain": [
       "<IPython.core.display.HTML object>"
      ]
     },
     "metadata": {},
     "output_type": "display_data"
    }
   ],
   "source": [
    "%%html\n",
    "\n",
    "<style>\n",
    "#clicker-button1 {\n",
    "    width: 100px;\n",
    "    height: 100px;\n",
    "    border: none;\n",
    "    outline: none;\n",
    "    background: url('/home/alexkumar/vscode/fastpages-APCSP/_notebooks/monkey-head-with-pixel-art-illustration-free-vector-PhotoRoom.png-PhotoRoom.png') no-repeat;\n",
    "    background-size: cover;\n",
    "    cursor: pointer;\n",
    "    transition: transform 0.3s;\n",
    "}\n",
    "</style>\n",
    "\n",
    "<div id=\"score1\">Score: 0</div>\n",
    "<div id=\"highscore1\">High Score: 0</div>\n",
    "<button id=\"clicker-button1\" onclick=\"incrementScore()\"></button>\n",
    "\n",
    "<script>\n",
    "var score = 0;\n",
    "var highScore = 0;\n",
    "var growth = 1.0;  // The button's initial size (as a scaling factor)\n",
    "\n",
    "function incrementScore() {\n",
    "    score += 1;\n",
    "    document.getElementById('score1').innerText = \"Score: \" + score;\n",
    "    \n",
    "    // check if the current score is higher than the high score\n",
    "    if (score > highScore) {\n",
    "        highScore = score;\n",
    "        document.getElementById('highscore1').innerText = \"High Score: \" + highScore;\n",
    "    }\n",
    "\n",
    "    // increase the button's size by 1% for each click, up to a maximum of 50% increase\n",
    "    if (growth < 3) {\n",
    "        growth += 0.01;\n",
    "        document.getElementById('clicker-button1').style.transform = 'scale(' + growth + ')';\n",
    "    }\n",
    "}\n",
    "</script>\n"
   ]
  }
 ],
 "metadata": {
  "kernelspec": {
   "display_name": "Python 3",
   "language": "python",
   "name": "python3"
  },
  "language_info": {
   "codemirror_mode": {
    "name": "ipython",
    "version": 3
   },
   "file_extension": ".py",
   "mimetype": "text/x-python",
   "name": "python",
   "nbconvert_exporter": "python",
   "pygments_lexer": "ipython3",
   "version": "3.8.10"
  },
  "orig_nbformat": 4
 },
 "nbformat": 4,
 "nbformat_minor": 2
}
