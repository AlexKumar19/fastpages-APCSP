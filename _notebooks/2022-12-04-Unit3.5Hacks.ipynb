{
 "cells": [
  {
   "cell_type": "markdown",
   "metadata": {},
   "source": [
    "# Hacks for Unit 3.5 - 3.7\n",
    "> Hacks for 3.5 - 3.7\n",
    "\n",
    "- toc: true\n",
    "- comments: true\n",
    "- categories: [csp, jupyter]\n",
    "- permalink: /csp/37hacks\n",
    "- tags: [python]\n",
    "- comments: true"
   ]
  },
  {
   "cell_type": "markdown",
   "metadata": {},
   "source": [
    "# 3.5\n",
    "Explain in your own words what each logical operator does\n",
    "- AND determines if both of the statements are true\n",
    "- OR determines if either one are true, and even if both are true it will still work\n",
    "- NOT checks if a certain condition is not met, for example no sunny checks to see if its cloudy\n",
    "Code your own scenario that makes sense for each logical operator"
   ]
  },
  {
   "cell_type": "code",
   "execution_count": 6,
   "metadata": {},
   "outputs": [
    {
     "name": "stdout",
     "output_type": "stream",
     "text": [
      "it is cloudy!\n",
      "You meet the requirements for this ride!\n",
      "you are depressed\n"
     ]
    }
   ],
   "source": [
    "# NOT\n",
    "\n",
    "sun = False\n",
    "if not sun:\n",
    "    print(\"it is cloudy!\")\n",
    "\n",
    "# AND\n",
    "\n",
    "weight = 240\n",
    "age = 19\n",
    "if weight >= 150 and age >= 15:\n",
    "    print(\"You meet the requirements for this ride!\")\n",
    "\n",
    "# OR\n",
    "\n",
    "emotion = \"sad\"\n",
    "if emotion==\"sad\" or emotion==\"lonely\":\n",
    "    print(\"you are depressed\")"
   ]
  },
  {
   "cell_type": "markdown",
   "metadata": {},
   "source": [
    "# 3.6 hacks\n",
    "1 point for defining all the key terms in your own words. 0.5 points if you use examples that show you truly understand it.\n",
    "- Selection: If something is true a specific code will run. EX: If answer is yes then a code block will run\n",
    "- Algorithm: a procedure of code that does something or a task. EX: algorithm that takes in your grades and gives out a GPA number\n",
    "- Conditional statement: runs a function depending or executs if TRUE. EX: if the sun is out, then it is sunny.\n",
    "1 point for writing a program that uses binary conditional logic. 0.5 points if it is original and shows complexity\n",
    "\n"
   ]
  },
  {
   "cell_type": "code",
   "execution_count": 29,
   "metadata": {},
   "outputs": [
    {
     "name": "stdout",
     "output_type": "stream",
     "text": [
      "AND\n",
      "1 & 1 = 1\n",
      "0 & 0 = 0\n",
      "1 & 0 = 0\n",
      "1 & 0 = 0\n",
      "0 & 1 = 0\n",
      "OR\n",
      "1 | 0 = 1\n",
      "0 | 0 = 0\n",
      "0 | 0 = 0\n",
      "1 | 1 = 1\n",
      "1 | 1 = 1\n",
      "XOR\n",
      "1 ^ 0 = 1\n",
      "1 ^ 1 = 0\n",
      "1 ^ 0 = 1\n",
      "0 ^ 0 = 0\n",
      "0 ^ 0 = 0\n"
     ]
    }
   ],
   "source": [
    "import random\n",
    "numbers = [0,1]\n",
    "\n",
    "def AND():  \n",
    "    num1 = random.choice(numbers)\n",
    "    num2 = random.choice(numbers)\n",
    "    print(num1, \"&\", num2, \"=\", num1 & num2)\n",
    "print(\"AND\")\n",
    "for i in range(5):\n",
    "    AND()\n",
    "\n",
    "def OR():  \n",
    "    num1 = random.choice(numbers)\n",
    "    num2 = random.choice(numbers)\n",
    "    print(num1, \"|\", num2, \"=\", num1 | num2)\n",
    "\n",
    "print(\"OR\")\n",
    "for i in range(5):\n",
    "    OR()\n",
    "\n",
    "\n",
    "def XOR():  \n",
    "    num1 = random.choice(numbers)\n",
    "    num2 = random.choice(numbers)\n",
    "    print(num1, \"^\", num2, \"=\", num1 ^ num2)\n",
    "\n",
    "print(\"XOR\")\n",
    "for i in range(5):\n",
    "    XOR()\n"
   ]
  },
  {
   "cell_type": "markdown",
   "metadata": {},
   "source": [
    "# 3.7\n",
    "- Create 3 different flow charts representing nested statements and transfer them into code.\n",
    "![]({{site.baseurl}}/images/flow1.png)"
   ]
  },
  {
   "cell_type": "code",
   "execution_count": 3,
   "metadata": {},
   "outputs": [
    {
     "name": "stdout",
     "output_type": "stream",
     "text": [
      "right color wrong size\n"
     ]
    }
   ],
   "source": [
    "BallColor = \"red\"\n",
    "size = \"7\"\n",
    "if BallColor==\"red\":\n",
    "    if size !=\"8\":\n",
    "        print(\"right color wrong size\")\n",
    "    elif size == \"8\":\n",
    "        print(\"right color and right size\")\n",
    "else: \n",
    "    if size !=\"8\":\n",
    "        print(\"wrong color wrong size\")\n",
    "    elif size == \"8\":\n",
    "        print(\"wrong color and right size\")\n"
   ]
  }
 ],
 "metadata": {
  "kernelspec": {
   "display_name": "Python 3.8.10 64-bit",
   "language": "python",
   "name": "python3"
  },
  "language_info": {
   "codemirror_mode": {
    "name": "ipython",
    "version": 3
   },
   "file_extension": ".py",
   "mimetype": "text/x-python",
   "name": "python",
   "nbconvert_exporter": "python",
   "pygments_lexer": "ipython3",
   "version": "3.8.10"
  },
  "orig_nbformat": 4,
  "vscode": {
   "interpreter": {
    "hash": "916dbcbb3f70747c44a77c7bcd40155683ae19c65e1c03b4aa3499c5328201f1"
   }
  }
 },
 "nbformat": 4,
 "nbformat_minor": 2
}
