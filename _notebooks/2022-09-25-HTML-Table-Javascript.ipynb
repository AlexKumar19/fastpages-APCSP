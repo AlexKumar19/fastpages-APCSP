{
 "cells": [
  {
   "cell_type": "markdown",
   "metadata": {},
   "source": [
    "# HTML Fragments and Javascript kernel\n",
    "> Starters for Bash installation\n",
    "\n",
    "- toc: true\n",
    "- comments: true\n",
    "- categories: [csp, jupyter]\n",
    "- permalink: /csp/htmltablejavascript\n",
    "- tags: [python]\n",
    "- comments: true"
   ]
  },
  {
   "cell_type": "code",
   "execution_count": null,
   "metadata": {},
   "outputs": [],
   "source": [
    "// defines a function that outputs to the console the message\n",
    "function logt(output) {\n",
    "    console.log(output);\n",
    "}\n",
    "// calls to the function \n",
    "logt(\"hi\");"
   ]
  },
  {
   "cell_type": "markdown",
   "metadata": {},
   "source": [
    "# HTML fragments along with Javascript table\n",
    "- outputs the lakers roster along with the coach using javascript and html that uses json to convert the objects into strings to output into the table!"
   ]
  },
  {
   "cell_type": "code",
   "execution_count": 1,
   "metadata": {},
   "outputs": [
    {
     "data": {
      "text/html": [
       "<div style='display:inline-block;background:black;border: 2px solid grey;box-shadow: 0.8em 0.4em 0.4em grey;'><table><tr><th><mark>Name</mark></th><th><mark>Height</mark></th><th><mark>Age</mark></th><th><mark>Role</mark></th></tr><tr><td>Darwin Ham</td><td>6'7</td><td>48</td><td>Coach</td><tr><tr><td>Carmelo Anthony</td><td>6'7</td><td>38</td><td>Player</td><tr><tr><td>Lebron James</td><td>6'9</td><td>37</td><td>Player</td><tr><tr><td>Russel Westbrook</td><td>6'3</td><td>33</td><td>Player</td><tr><tr><td>Dennis Shroder</td><td>6'1</td><td>29</td><td>Player</td><tr><tr><td>Anthony Davis</td><td>6'10</td><td>29</td><td>Player</td><tr><tr><td>Dwight Howard</td><td>6'10</td><td>36</td><td>Player</td><tr></table></div>"
      ]
     },
     "execution_count": 1,
     "metadata": {},
     "output_type": "execute_result"
    }
   ],
   "source": [
    "// define a function to hold data for a Person\n",
    "function Person(name, height, age) {\n",
    "    this.name = name;\n",
    "    this.height = height;\n",
    "    this.age = age;\n",
    "    this.role = \"\";\n",
    "}\n",
    "// Sets the role of the person\n",
    "Person.prototype.setRole = function(role) {\n",
    "    this.role = role;\n",
    "}\n",
    "//Defines Coach\n",
    "var coach = new Person(\"Darwin Ham\", \"6'7\", 48);\n",
    "coach.setRole(\"Coach\");\n",
    "\n",
    "\n",
    "// JSON conversion that changes an object into a string\n",
    "Person.prototype.toJSON = function() {\n",
    "    const obj = {name: this.name, height: this.height, age: this.age, role: this.role};\n",
    "    const json = JSON.stringify(obj);\n",
    "    return json;\n",
    "}\n",
    "// data about players\n",
    "var players = [ \n",
    "    new Person(\"Carmelo Anthony\", \"6'7\", 38),\n",
    "    new Person(\"Lebron James\", \"6'9\", 37),\n",
    "    new Person(\"Russel Westbrook\", \"6'3\", 33),\n",
    "    new Person(\"Dennis Shroder\", \"6'1\", 29),\n",
    "    new Person(\"Anthony Davis\", \"6'10\", 29),\n",
    "    new Person(\"Dwight Howard\", \"6'10\", 36)\n",
    "];\n",
    "\n",
    "function Team(coach, players){ // 1 coach with a group of players to make a team\n",
    "    // starts the list with the coach\n",
    "    this.coach = coach;\n",
    "    this.team = [coach];\n",
    "    // adding players to the array that we just made\n",
    "    this.players = players;\n",
    "    this.players.forEach(player => { player.setRole(\"Player\"); this.team.push(player); });\n",
    "    // creates the json list of string by calling back to the function earlier\n",
    "    this.json = [];\n",
    "    this.team.forEach(player => this.json.push(player.toJSON()));\n",
    "}\n",
    "//defining the team\n",
    "var lakers = new Team(coach, players);\n",
    "// define an HTML conversion \"method\" associated with Classroom\n",
    "Team.prototype._toHtml = function() {\n",
    "    // HTML Style is build using inline structure\n",
    "    var style = (\n",
    "      \"display:inline-block;\" +\n",
    "      \"background:black;\" +\n",
    "      \"border: 2px solid grey;\" +\n",
    "      \"box-shadow: 0.8em 0.4em 0.4em grey;\"\n",
    "    );\n",
    "  \n",
    "    // HTML Body of Table is build as a series of concatenations (+=)\n",
    "    var body = \"\";\n",
    "    // Heading for Array Columns\n",
    "    body += \"<tr>\";\n",
    "    body += \"<th><mark>\" + \"Name\" + \"</mark></th>\";\n",
    "    body += \"<th><mark>\" + \"Height\" + \"</mark></th>\";\n",
    "    body += \"<th><mark>\" + \"Age\" + \"</mark></th>\";\n",
    "    body += \"<th><mark>\" + \"Role\" + \"</mark></th>\";\n",
    "    body += \"</tr>\";\n",
    "    // Data of Array, iterate through each row of lakers team\n",
    "    for (var row of lakers.team) {\n",
    "      // tr for each row, a new line\n",
    "      body += \"<tr>\";\n",
    "      // td for each column of data\n",
    "      body += \"<td>\" + row.name + \"</td>\";\n",
    "      body += \"<td>\" + row.height + \"</td>\";\n",
    "      body += \"<td>\" + row.age + \"</td>\";\n",
    "      body += \"<td>\" + row.role + \"</td>\";\n",
    "      // tr to end line\n",
    "      body += \"<tr>\";\n",
    "    }\n",
    "  \n",
    "     // Build and HTML fragment of div, table, table body\n",
    "    return (\n",
    "      \"<div style='\" + style + \"'>\" +\n",
    "        \"<table>\" +\n",
    "          body +\n",
    "        \"</table>\" +\n",
    "      \"</div>\"\n",
    "    );\n",
    "  \n",
    "  };\n",
    "  \n",
    "  // IJavaScript HTML processor receive parameter of defined HTML fragment\n",
    "  $$.html(lakers._toHtml());"
   ]
  }
 ],
 "metadata": {
  "kernelspec": {
   "display_name": "JavaScript (Node.js)",
   "language": "javascript",
   "name": "javascript"
  },
  "language_info": {
   "file_extension": ".js",
   "mimetype": "application/javascript",
   "name": "javascript",
   "version": "6.11.2"
  },
  "orig_nbformat": 4
 },
 "nbformat": 4,
 "nbformat_minor": 2
}
