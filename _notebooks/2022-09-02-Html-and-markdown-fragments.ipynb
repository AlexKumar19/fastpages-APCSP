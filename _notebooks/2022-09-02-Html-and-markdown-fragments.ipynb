{
 "cells": [
  {
   "cell_type": "markdown",
   "metadata": {},
   "source": [
    "# HTML and markdown fragments\n",
    "> Basics of HTML and markdown fragments\n",
    "\n",
    "- title: HTML and markdown Fragments\n",
    "- toc: true\n",
    "- categories: [csp, jupyter]\n",
    "- permalink: /csp/HTMLMarkdownFragments\n",
    "- image: /images/python_lists.png\n",
    "- categories: [csp, jupyter]\n",
    "- tags: [python]"
   ]
  },
  {
   "cell_type": "markdown",
   "metadata": {},
   "source": [
    "# Changing Theme from Minima to DarkMode\n",
    "Some things that I noticed when changing the theme to darkmode was that I could not do it through the index.htmlm and I was forced to do it through the _sass file.\n",
    "- The entire background including the header and footer was changed to black ad the text was changed\n",
    "- the fonts where changed and the color changed to white\n",
    "- One thing that I had to come accross was the the fonts did not contrast well because it was just black and white and I did not really like that.\n",
    "- Another thing was that the font was different, although it was still legible I liked the old one better\n",
    "- the installation process of getting the themes in was creating a new folder in the _sass folder and putting the darkmode code it, and the process was very smooth"
   ]
  },
  {
   "cell_type": "markdown",
   "metadata": {},
   "source": [
    "![websitepicture.png](https://github.com/AlexKumar19/fastpages-APCSP/blob/master/images/websitepicture.png?raw=true)"
   ]
  }
 ],
 "metadata": {
  "kernelspec": {
   "display_name": "Python 3.8.10 64-bit",
   "language": "python",
   "name": "python3"
  },
  "language_info": {
   "name": "python",
   "version": "3.8.10"
  },
  "orig_nbformat": 4,
  "vscode": {
   "interpreter": {
    "hash": "916dbcbb3f70747c44a77c7bcd40155683ae19c65e1c03b4aa3499c5328201f1"
   }
  }
 },
 "nbformat": 4,
 "nbformat_minor": 2
}
