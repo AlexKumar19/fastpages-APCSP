{
 "cells": [
  {
   "cell_type": "markdown",
   "metadata": {},
   "source": [
    "# Fastpages Notebook Blog Post\n",
    "> First Jupyter Notebook\n",
    "\n",
    "- toc: true \n",
    "- badges: true\n",
    "- comments: true\n",
    "- author: Alex Kumar\n",
    "- categories: [jupyter, aboutme]"
   ]
  },
  {
   "cell_type": "markdown",
   "metadata": {},
   "source": [
    "#Python\n",
    "Using python to pring \"Hello\""
   ]
  },
  {
   "cell_type": "code",
   "execution_count": 1,
   "metadata": {},
   "outputs": [
    {
     "name": "stdout",
     "output_type": "stream",
     "text": [
      "Hello world, this is Alex Kumar\n"
     ]
    }
   ],
   "source": [
    "print('Hello world, this is Alex Kumar')"
   ]
  },
  {
   "cell_type": "code",
   "execution_count": 2,
   "metadata": {},
   "outputs": [
    {
     "name": "stdout",
     "output_type": "stream",
     "text": [
      "Here are some things about me:I like to play basketball and I also enjoy going to the gym\n"
     ]
    }
   ],
   "source": [
    "info ='I like to play basketball and I also enjoy going to the gym'\n",
    "print(\"Here are some things about me: \" + info)"
   ]
  },
  {
   "cell_type": "code",
   "execution_count": 1,
   "metadata": {},
   "outputs": [
    {
     "name": "stdout",
     "output_type": "stream",
     "text": [
      "{\"coord\":{\"lon\":-89.1028,\"lat\":30.438},\"weather\":[{\"id\":800,\"main\":\"Clear\",\"description\":\"clear sky\",\"icon\":\"01d\"}],\"base\":\"stations\",\"main\":{\"temp\":72.68,\"feels_like\":72.46,\"temp_min\":71.58,\"temp_max\":75.04,\"pressure\":1020,\"humidity\":60},\"visibility\":10000,\"wind\":{\"speed\":17.27,\"deg\":130},\"clouds\":{\"all\":0},\"dt\":1680207755,\"sys\":{\"type\":1,\"id\":4248,\"country\":\"US\",\"sunrise\":1680176886,\"sunset\":1680221608},\"timezone\":-18000,\"id\":4429197,\"name\":\"Landon\",\"cod\":200}\n"
     ]
    }
   ],
   "source": [
    "import requests\n",
    "\n",
    "url = \"https://open-weather13.p.rapidapi.com/city/landon\"\n",
    "\n",
    "headers = {\n",
    "\t\"X-RapidAPI-Key\": \"f8c1edc71amsh2ceb94e75170cf3p1172ddjsn28d9990da6a6\",\n",
    "\t\"X-RapidAPI-Host\": \"open-weather13.p.rapidapi.com\"\n",
    "}\n",
    "\n",
    "response = requests.request(\"GET\", url, headers=headers)\n",
    "\n",
    "print(response.text)"
   ]
  }
 ],
 "metadata": {
  "kernelspec": {
   "display_name": "Python 3.8.10 64-bit",
   "language": "python",
   "name": "python3"
  },
  "language_info": {
   "codemirror_mode": {
    "name": "ipython",
    "version": 3
   },
   "file_extension": ".py",
   "mimetype": "text/x-python",
   "name": "python",
   "nbconvert_exporter": "python",
   "pygments_lexer": "ipython3",
   "version": "3.8.10"
  },
  "orig_nbformat": 4,
  "vscode": {
   "interpreter": {
    "hash": "916dbcbb3f70747c44a77c7bcd40155683ae19c65e1c03b4aa3499c5328201f1"
   }
  }
 },
 "nbformat": 4,
 "nbformat_minor": 2
}
