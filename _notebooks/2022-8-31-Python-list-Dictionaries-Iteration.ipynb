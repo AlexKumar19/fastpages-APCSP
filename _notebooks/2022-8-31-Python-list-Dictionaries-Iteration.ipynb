{
 "cells": [
  {
   "cell_type": "markdown",
   "metadata": {},
   "source": [
    "# Python List Dictionary Iteration\n",
    "> An introduction to Data Abstraction using Python Lists [] and Python Dictionaries {}.\n",
    "\n",
    "- title: Lists, Dictionaries, Iteration\n",
    "- toc: true\n",
    "- categories: [csp, jupyter]\n",
    "- permalink: /csp/python_lists_dictionaries\n",
    "- categories: [csp]\n",
    "- tags: [python]"
   ]
  },
  {
   "cell_type": "markdown",
   "metadata": {},
   "source": [
    "# Defining InfoDb with extra entries\n",
    "Purpose of this cell is to define InfoDb and add entries about certain people and traits that they have"
   ]
  },
  {
   "cell_type": "code",
   "execution_count": 10,
   "metadata": {},
   "outputs": [],
   "source": [
    "InfoDb = []\n",
    "\n",
    "# InfoDB is a data structure with expected Keys and Values\n",
    "\n",
    "# Append to List a Dictionary of key/values related to a person and cars\n",
    "InfoDb.append({\n",
    "    \"FirstName\": \"samit\",\n",
    "    \"LastName\": \"poojary\",\n",
    "    \"DOB\": \"September 15\",\n",
    "    \"Residence\": \"San Diego\",\n",
    "    \"Email\": \"samit.poojary@gmail.com\",\n",
    "    \"Phone\": \"iphone\"\n",
    "})\n",
    "\n",
    "#adding extra records to InfoDb\n",
    "\n",
    "InfoDb.append({\n",
    "    \"FirstName\": \"Safin\",\n",
    "    \"LastName\": \"Singh\",\n",
    "    \"DOB\": \"July 13\",\n",
    "    \"Residence\": \"San Diego\",\n",
    "    \"Email\": \"safin.singh@gmail.com\",\n",
    "    \"Phone\": \"android\"\n",
    "})\n",
    "# adding extra records\n",
    "InfoDb.append({\n",
    "    \"FirstName\": \"Alex\",\n",
    "    \"LastName\": \"Kumar\",\n",
    "    \"DOB\": \"May 9\",\n",
    "    \"Residence\": \"San Diego\",\n",
    "    \"Email\": \"alex.k.kumar@gmail.com\",\n",
    "    \"Phone\": \"iphone\"\n",
    "})\n",
    "# Adding one extra item to InfoDb\n",
    "InfoDb.append({\n",
    "    \"FirstName\": \"Maxie\",\n",
    "    \"LastName\": \"Kumar\",\n",
    "    \"DOB\": \"November 5\",\n",
    "    \"Residence\": \"San Diego\",\n",
    "    \"Email\": \"maxie.kumar@gmail.com\",\n",
    "    \"Phone\": \"no phone\"\n",
    "})"
   ]
  },
  {
   "cell_type": "markdown",
   "metadata": {},
   "source": [
    "# For loop to print out InfoDb\n",
    "Purpose of this independent cell is to use a normal loop that goes through Infodb printint out all the entries. The for loop automates the process so we do not have to manually print out all the enries by hand.  "
   ]
  },
  {
   "cell_type": "code",
   "execution_count": 11,
   "metadata": {},
   "outputs": [
    {
     "name": "stdout",
     "output_type": "stream",
     "text": [
      "samit poojary \n",
      " \t DOB: September 15 \n",
      " \t Residence: San Diego \n",
      " \t Email:  samit.poojary@gmail.com \n",
      " \t Phone:  iphone\n",
      "Safin Singh \n",
      " \t DOB: July 13 \n",
      " \t Residence: San Diego \n",
      " \t Email:  safin.singh@gmail.com \n",
      " \t Phone:  android\n",
      "Alex Kumar \n",
      " \t DOB: May 9 \n",
      " \t Residence: San Diego \n",
      " \t Email:  alex.k.kumar@gmail.com \n",
      " \t Phone:  iphone\n",
      "Maxie Kumar \n",
      " \t DOB: November 5 \n",
      " \t Residence: San Diego \n",
      " \t Email:  maxie.kumar@gmail.com \n",
      " \t Phone:  no phone\n"
     ]
    }
   ],
   "source": [
    "# for loop that goes through each item and prints it out\n",
    "for item in InfoDb:\n",
    "    #print function that goes through and formats\n",
    "    print(item[\"FirstName\"], item[\"LastName\"], \"\\n\", \"\\t\", \"DOB:\", item[\"DOB\"], \"\\n\", \"\\t\", \"Residence:\", item[\"Residence\"], \"\\n\", \"\\t\", \"Email: \", item[\"Email\"], \"\\n\", \"\\t\", \"Phone: \" ,item[\"Phone\"])"
   ]
  },
  {
   "cell_type": "markdown",
   "metadata": {},
   "source": [
    "# While loop to print out InfoDb\n",
    "The purpose of this independent cell block is use a while loop to go print out InfoDb while a certain variable is less than the length of InfoDb. This allows us to print out the data without manually inputting the values to the console\n"
   ]
  },
  {
   "cell_type": "code",
   "execution_count": 12,
   "metadata": {},
   "outputs": [
    {
     "name": "stdout",
     "output_type": "stream",
     "text": [
      "samit poojary \n",
      " \t DOB: September 15 \n",
      " \t Residence: San Diego \n",
      " \t Email:  samit.poojary@gmail.com \n",
      " \t Phone:  iphone\n",
      "Safin Singh \n",
      " \t DOB: July 13 \n",
      " \t Residence: San Diego \n",
      " \t Email:  safin.singh@gmail.com \n",
      " \t Phone:  android\n",
      "Alex Kumar \n",
      " \t DOB: May 9 \n",
      " \t Residence: San Diego \n",
      " \t Email:  alex.k.kumar@gmail.com \n",
      " \t Phone:  iphone\n",
      "Maxie Kumar \n",
      " \t DOB: November 5 \n",
      " \t Residence: San Diego \n",
      " \t Email:  maxie.kumar@gmail.com \n",
      " \t Phone:  no phone\n"
     ]
    }
   ],
   "source": [
    "#Uses a while loop to output the info in InfoDb\n",
    "#Sets number to the length of InfoDb\n",
    "number = len(InfoDb)\n",
    "#temporary variable i set to 0\n",
    "i = 0\n",
    "while i < number:\n",
    "    #while i is less than the number or the length of InfoDb, it prints out the data in InfoDb\n",
    "    print(InfoDb[i][\"FirstName\"], InfoDb[i][\"LastName\"], \"\\n\", \"\\t\", \"DOB:\", InfoDb[i][\"DOB\"], \"\\n\", \"\\t\", \"Residence:\", InfoDb[i][\"Residence\"], \"\\n\", \"\\t\", \"Email: \", InfoDb[i][\"Email\"], \"\\n\", \"\\t\", \"Phone: \" ,InfoDb[i][\"Phone\"])\n",
    "    i+=1"
   ]
  },
  {
   "cell_type": "markdown",
   "metadata": {},
   "source": [
    "# for loop with index to print out InfoDb\n",
    "The purpose of this independent code cell is to use a for loop with an index that will go over all the data in infoDB without having to manually print out every single statement. The for loop will repeat the print function for every single entry in InfoDb"
   ]
  },
  {
   "cell_type": "code",
   "execution_count": 13,
   "metadata": {},
   "outputs": [
    {
     "name": "stdout",
     "output_type": "stream",
     "text": [
      "samit poojary \n",
      " \t DOB: September 15 \n",
      " \t Residence: San Diego \n",
      " \t Email:  samit.poojary@gmail.com \n",
      " \t Phone:  iphone\n",
      "Safin Singh \n",
      " \t DOB: July 13 \n",
      " \t Residence: San Diego \n",
      " \t Email:  safin.singh@gmail.com \n",
      " \t Phone:  android\n",
      "Alex Kumar \n",
      " \t DOB: May 9 \n",
      " \t Residence: San Diego \n",
      " \t Email:  alex.k.kumar@gmail.com \n",
      " \t Phone:  iphone\n",
      "Maxie Kumar \n",
      " \t DOB: November 5 \n",
      " \t Residence: San Diego \n",
      " \t Email:  maxie.kumar@gmail.com \n",
      " \t Phone:  no phone\n"
     ]
    }
   ],
   "source": [
    "#for loop that goes over InfoDb for every item in the InfoDb, len() function checks for length of InfoDb and the loop repeats that many times\n",
    "for i in range(len(InfoDb)):\n",
    "    #prints out the items for every i in the InfoDb\n",
    "    print(InfoDb[i][\"FirstName\"], InfoDb[i][\"LastName\"], \"\\n\", \"\\t\", \"DOB:\", InfoDb[i][\"DOB\"], \"\\n\", \"\\t\", \"Residence:\", InfoDb[i][\"Residence\"], \"\\n\", \"\\t\", \"Email: \", InfoDb[i][\"Email\"], \"\\n\", \"\\t\", \"Phone: \" ,InfoDb[i][\"Phone\"])"
   ]
  },
  {
   "cell_type": "markdown",
   "metadata": {},
   "source": [
    "# Recursion to print out all of InfoDb\n",
    "This recursion which utilizes a function to print out all the data in InfoDb is used to automate the printint process so we will not have to manually print out every single line. It uses a function that also uses embedded if statements that also calls itself at the end. This allows us to go over every single entry inside of InfoDb."
   ]
  },
  {
   "cell_type": "code",
   "execution_count": 17,
   "metadata": {},
   "outputs": [
    {
     "name": "stdout",
     "output_type": "stream",
     "text": [
      "samit poojary\n",
      "     DOB: September 15\n",
      "     Residence: San Diego\n",
      "     Email: samit.poojary@gmail.com\n",
      "     Phone: iphone\n",
      "    \n",
      "Safin Singh\n",
      "     DOB: July 13\n",
      "     Residence: San Diego\n",
      "     Email: safin.singh@gmail.com\n",
      "     Phone: android\n",
      "    \n",
      "Alex Kumar\n",
      "     DOB: May 9\n",
      "     Residence: San Diego\n",
      "     Email: alex.k.kumar@gmail.com\n",
      "     Phone: iphone\n",
      "    \n",
      "Maxie Kumar\n",
      "     DOB: November 5\n",
      "     Residence: San Diego\n",
      "     Email: maxie.kumar@gmail.com\n",
      "     Phone: no phone\n",
      "    \n"
     ]
    }
   ],
   "source": [
    "#Recursion used to print InfoDb\n",
    "\n",
    "#sets variable n equal to the length of Info Db\n",
    "n = len(InfoDb)\n",
    "#function that checks to see if i is n, and if it is non, it will parse through InfoDb and print it out\n",
    "def output(i):\n",
    "    if i == n: return\n",
    "    #format string to output InfoDb in an organized foramt\n",
    "    print(\"\"\"{} {}\n",
    "     DOB: {}\n",
    "     Residence: {}\n",
    "     Email: {}\n",
    "     Phone: {}\n",
    "    \"\"\".format(InfoDb[i][\"FirstName\"], InfoDb[i][\"LastName\"], InfoDb[i][\"DOB\"], InfoDb[i][\"Residence\"], InfoDb[i][\"Email\"], InfoDb[i][\"Phone\"]))\n",
    "    #recalls the function output to go over every single person in InfoDb\n",
    "    output(1+i)\n",
    "output(0)\n"
   ]
  },
  {
   "cell_type": "markdown",
   "metadata": {},
   "source": [
    "# Outputting data in Reverse Order"
   ]
  },
  {
   "cell_type": "code",
   "execution_count": 28,
   "metadata": {},
   "outputs": [
    {
     "name": "stdout",
     "output_type": "stream",
     "text": [
      "['Kyrie Irving', 'Paul George', 'Jason Tatum', 'Kevin Durant', 'Chris Paul', 'Kobe Bryant', 'Lebron James']\n"
     ]
    }
   ],
   "source": [
    "#Defines the basetball players and puts it into a list\n",
    "Names_of_basketball_players = [\"Lebron James\", \"Kobe Bryant\", \"Chris Paul\", \"Kevin Durant\", \"Jason Tatum\", \"Paul George\", \"Kyrie Irving\"]\n",
    "#prints the list out in reverse order\n",
    "print(Names_of_basketball_players[::-1])"
   ]
  },
  {
   "cell_type": "markdown",
   "metadata": {},
   "source": [
    "# Quiz That stores into a dictionary"
   ]
  },
  {
   "cell_type": "code",
   "execution_count": 1,
   "metadata": {},
   "outputs": [
    {
     "name": "stdout",
     "output_type": "stream",
     "text": [
      "What is your name\n"
     ]
    }
   ],
   "source": [
    "Data = []\n"
   ]
  }
 ],
 "metadata": {
  "kernelspec": {
   "display_name": "Python 3.8.10 64-bit",
   "language": "python",
   "name": "python3"
  },
  "language_info": {
   "codemirror_mode": {
    "name": "ipython",
    "version": 3
   },
   "file_extension": ".py",
   "mimetype": "text/x-python",
   "name": "python",
   "nbconvert_exporter": "python",
   "pygments_lexer": "ipython3",
   "version": "3.8.10"
  },
  "orig_nbformat": 4,
  "vscode": {
   "interpreter": {
    "hash": "916dbcbb3f70747c44a77c7bcd40155683ae19c65e1c03b4aa3499c5328201f1"
   }
  }
 },
 "nbformat": 4,
 "nbformat_minor": 2
}
