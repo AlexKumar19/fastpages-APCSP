{
 "cells": [
  {
   "cell_type": "markdown",
   "metadata": {},
   "source": [
    "# Python List Dictionary Iteration\n",
    "> An introduction to Data Abstraction using Python Lists [] and Python Dictionaries {}.\n",
    "\n",
    "- title: Lists, Dictionaries, Iteration\n",
    "- toc: true\n",
    "- categories: [csp, jupyter]\n",
    "- permalink: /csp/python_lists_dictionaries\n",
    "- image: /images/python_lists.png\n",
    "- categories: [csp]\n",
    "- tags: [python]"
   ]
  },
  {
   "cell_type": "markdown",
   "metadata": {},
   "source": [
    "# Defining InfoDb with extra entries"
   ]
  },
  {
   "cell_type": "code",
   "execution_count": 10,
   "metadata": {},
   "outputs": [],
   "source": [
    "InfoDb = []\n",
    "\n",
    "# InfoDB is a data structure with expected Keys and Values\n",
    "\n",
    "# Append to List a Dictionary of key/values related to a person and cars\n",
    "InfoDb.append({\n",
    "    \"FirstName\": \"samit\",\n",
    "    \"LastName\": \"poojary\",\n",
    "    \"DOB\": \"September 15\",\n",
    "    \"Residence\": \"San Diego\",\n",
    "    \"Email\": \"samit.poojary@gmail.com\",\n",
    "    \"Phone\": \"iphone\"\n",
    "})\n",
    "\n",
    "#adding extra records to InfoDb\n",
    "\n",
    "InfoDb.append({\n",
    "    \"FirstName\": \"Safin\",\n",
    "    \"LastName\": \"Singh\",\n",
    "    \"DOB\": \"July 13\",\n",
    "    \"Residence\": \"San Diego\",\n",
    "    \"Email\": \"safin.singh@gmail.com\",\n",
    "    \"Phone\": \"android\"\n",
    "})\n",
    "# adding extra records\n",
    "InfoDb.append({\n",
    "    \"FirstName\": \"Alex\",\n",
    "    \"LastName\": \"Kumar\",\n",
    "    \"DOB\": \"May 9\",\n",
    "    \"Residence\": \"San Diego\",\n",
    "    \"Email\": \"alex.k.kumar@gmail.com\",\n",
    "    \"Phone\": \"iphone\"\n",
    "})\n",
    "\n",
    "InfoDb.append({\n",
    "    \"FirstName\": \"Maxie\",\n",
    "    \"LastName\": \"Kumar\",\n",
    "    \"DOB\": \"November 5\",\n",
    "    \"Residence\": \"San Diego\",\n",
    "    \"Email\": \"maxie.kumar@gmail.com\",\n",
    "    \"Phone\": \"no phone\"\n",
    "})"
   ]
  },
  {
   "cell_type": "markdown",
   "metadata": {},
   "source": [
    "# Independent cell that uses a for loop to print out all of the data in InfoDb"
   ]
  },
  {
   "cell_type": "code",
   "execution_count": 11,
   "metadata": {},
   "outputs": [
    {
     "name": "stdout",
     "output_type": "stream",
     "text": [
      "samit poojary \n",
      " \t DOB: September 15 \n",
      " \t Residence: San Diego \n",
      " \t Email:  samit.poojary@gmail.com \n",
      " \t Phone:  iphone\n",
      "Safin Singh \n",
      " \t DOB: July 13 \n",
      " \t Residence: San Diego \n",
      " \t Email:  safin.singh@gmail.com \n",
      " \t Phone:  android\n",
      "Alex Kumar \n",
      " \t DOB: May 9 \n",
      " \t Residence: San Diego \n",
      " \t Email:  alex.k.kumar@gmail.com \n",
      " \t Phone:  iphone\n",
      "Maxie Kumar \n",
      " \t DOB: November 5 \n",
      " \t Residence: San Diego \n",
      " \t Email:  maxie.kumar@gmail.com \n",
      " \t Phone:  no phone\n"
     ]
    }
   ],
   "source": [
    "# for loop that goes through each item and prints it out\n",
    "for item in InfoDb:\n",
    "    #print function that goes through and formats\n",
    "    print(item[\"FirstName\"], item[\"LastName\"], \"\\n\", \"\\t\", \"DOB:\", item[\"DOB\"], \"\\n\", \"\\t\", \"Residence:\", item[\"Residence\"], \"\\n\", \"\\t\", \"Email: \", item[\"Email\"], \"\\n\", \"\\t\", \"Phone: \" ,item[\"Phone\"])"
   ]
  },
  {
   "cell_type": "markdown",
   "metadata": {},
   "source": [
    "# Independent cell that uses while loops to showcase work with data"
   ]
  },
  {
   "cell_type": "code",
   "execution_count": 12,
   "metadata": {},
   "outputs": [
    {
     "name": "stdout",
     "output_type": "stream",
     "text": [
      "samit poojary \n",
      " \t DOB: September 15 \n",
      " \t Residence: San Diego \n",
      " \t Email:  samit.poojary@gmail.com \n",
      " \t Phone:  iphone\n",
      "Safin Singh \n",
      " \t DOB: July 13 \n",
      " \t Residence: San Diego \n",
      " \t Email:  safin.singh@gmail.com \n",
      " \t Phone:  android\n",
      "Alex Kumar \n",
      " \t DOB: May 9 \n",
      " \t Residence: San Diego \n",
      " \t Email:  alex.k.kumar@gmail.com \n",
      " \t Phone:  iphone\n",
      "Maxie Kumar \n",
      " \t DOB: November 5 \n",
      " \t Residence: San Diego \n",
      " \t Email:  maxie.kumar@gmail.com \n",
      " \t Phone:  no phone\n"
     ]
    }
   ],
   "source": [
    "number = len(InfoDb)\n",
    "i = 0\n",
    "while i < number:\n",
    "    print(InfoDb[i][\"FirstName\"], InfoDb[i][\"LastName\"], \"\\n\", \"\\t\", \"DOB:\", InfoDb[i][\"DOB\"], \"\\n\", \"\\t\", \"Residence:\", InfoDb[i][\"Residence\"], \"\\n\", \"\\t\", \"Email: \", InfoDb[i][\"Email\"], \"\\n\", \"\\t\", \"Phone: \" ,InfoDb[i][\"Phone\"])\n",
    "    i+=1"
   ]
  },
  {
   "cell_type": "markdown",
   "metadata": {},
   "source": [
    "# for loop with index that prints out all the data in InfoDb"
   ]
  },
  {
   "cell_type": "code",
   "execution_count": 13,
   "metadata": {},
   "outputs": [
    {
     "name": "stdout",
     "output_type": "stream",
     "text": [
      "samit poojary \n",
      " \t DOB: September 15 \n",
      " \t Residence: San Diego \n",
      " \t Email:  samit.poojary@gmail.com \n",
      " \t Phone:  iphone\n",
      "Safin Singh \n",
      " \t DOB: July 13 \n",
      " \t Residence: San Diego \n",
      " \t Email:  safin.singh@gmail.com \n",
      " \t Phone:  android\n",
      "Alex Kumar \n",
      " \t DOB: May 9 \n",
      " \t Residence: San Diego \n",
      " \t Email:  alex.k.kumar@gmail.com \n",
      " \t Phone:  iphone\n",
      "Maxie Kumar \n",
      " \t DOB: November 5 \n",
      " \t Residence: San Diego \n",
      " \t Email:  maxie.kumar@gmail.com \n",
      " \t Phone:  no phone\n"
     ]
    }
   ],
   "source": [
    "for i in range(len(InfoDb)):\n",
    "    print(InfoDb[i][\"FirstName\"], InfoDb[i][\"LastName\"], \"\\n\", \"\\t\", \"DOB:\", InfoDb[i][\"DOB\"], \"\\n\", \"\\t\", \"Residence:\", InfoDb[i][\"Residence\"], \"\\n\", \"\\t\", \"Email: \", InfoDb[i][\"Email\"], \"\\n\", \"\\t\", \"Phone: \" ,InfoDb[i][\"Phone\"])"
   ]
  },
  {
   "cell_type": "markdown",
   "metadata": {},
   "source": [
    "# Recursion to print out all of InfoDb"
   ]
  },
  {
   "cell_type": "code",
   "execution_count": 17,
   "metadata": {},
   "outputs": [
    {
     "name": "stdout",
     "output_type": "stream",
     "text": [
      "samit poojary\n",
      "     DOB: September 15\n",
      "     Residence: San Diego\n",
      "     Email: samit.poojary@gmail.com\n",
      "     Phone: iphone\n",
      "    \n",
      "Safin Singh\n",
      "     DOB: July 13\n",
      "     Residence: San Diego\n",
      "     Email: safin.singh@gmail.com\n",
      "     Phone: android\n",
      "    \n",
      "Alex Kumar\n",
      "     DOB: May 9\n",
      "     Residence: San Diego\n",
      "     Email: alex.k.kumar@gmail.com\n",
      "     Phone: iphone\n",
      "    \n",
      "Maxie Kumar\n",
      "     DOB: November 5\n",
      "     Residence: San Diego\n",
      "     Email: maxie.kumar@gmail.com\n",
      "     Phone: no phone\n",
      "    \n"
     ]
    }
   ],
   "source": [
    "n =len(InfoDb)\n",
    "def output(i):\n",
    "    if i == n: return\n",
    "    print(\"\"\"{} {}\n",
    "     DOB: {}\n",
    "     Residence: {}\n",
    "     Email: {}\n",
    "     Phone: {}\n",
    "    \"\"\".format(InfoDb[i][\"FirstName\"], InfoDb[i][\"LastName\"], InfoDb[i][\"DOB\"], InfoDb[i][\"Residence\"], InfoDb[i][\"Email\"], InfoDb[i][\"Phone\"]))\n",
    "    output(1+i)\n",
    "output(0)\n"
   ]
  }
 ],
 "metadata": {
  "kernelspec": {
   "display_name": "Python 3.8.10 64-bit",
   "language": "python",
   "name": "python3"
  },
  "language_info": {
   "codemirror_mode": {
    "name": "ipython",
    "version": 3
   },
   "file_extension": ".py",
   "mimetype": "text/x-python",
   "name": "python",
   "nbconvert_exporter": "python",
   "pygments_lexer": "ipython3",
   "version": "3.8.10"
  },
  "orig_nbformat": 4,
  "vscode": {
   "interpreter": {
    "hash": "916dbcbb3f70747c44a77c7bcd40155683ae19c65e1c03b4aa3499c5328201f1"
   }
  }
 },
 "nbformat": 4,
 "nbformat_minor": 2
}
