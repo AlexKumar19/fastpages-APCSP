{
 "cells": [
  {
   "cell_type": "markdown",
   "metadata": {},
   "source": [
    "# Python List Dictionary Iteration\n",
    "> An introduction to Data Abstraction using Python Lists [] and Python Dictionaries {}.\n",
    "\n",
    "- title: Lists, Dictionaries, Iteration\n",
    "- toc: true\n",
    "- categories: [csp, jupyter]\n",
    "- permalink: /csp/python_lists_dictionaries\n",
    "- image: /images/python_lists.png\n",
    "- categories: [csp]\n",
    "- tags: [python]"
   ]
  },
  {
   "cell_type": "code",
   "execution_count": null,
   "metadata": {},
   "outputs": [],
   "source": [
    "InfoDb = []\n",
    "\n",
    "# InfoDB is a data structure with expected Keys and Values\n",
    "\n",
    "# Append to List a Dictionary of key/values related to a person and cars\n",
    "InfoDb.append({\n",
    "    \"FirstName\": \"John\",\n",
    "    \"LastName\": \"Mortensen\",\n",
    "    \"DOB\": \"October 21\",\n",
    "    \"Residence\": \"San Diego\",\n",
    "    \"Email\": \"jmortensen@powayusd.com\",\n",
    "    \"Phone\": \"iphone\"\n",
    "})\n",
    "\n",
    "# Append to List a 2nd Dictionary of key/values\n",
    "InfoDb.append({\n",
    "    \"FirstName\": \"Sunny\",\n",
    "    \"LastName\": \"Naidu\",\n",
    "    \"DOB\": \"August 2\",\n",
    "    \"Residence\": \"Temecula\",\n",
    "    \"Email\": \"snaidu@powayusd.com\",\n",
    "    \"Phone\": \"iphone\"\n",
    "})\n",
    "\n",
    "#adding extra records to InfoDb\n",
    "\n",
    "InfoDb.append({\n",
    "    \"FirstName\": \"Safin\",\n",
    "    \"LastName\": \"Singh\",\n",
    "    \"DOB\": \"July 13\",\n",
    "    \"Residence\": \"San Diego\",\n",
    "    \"Email\": \"safin.singh@gmail.com\",\n",
    "    \"Phone\": \"android\"\n",
    "})\n",
    "\n",
    "InfoDb.append({\n",
    "    \"FirstName\": \"Alex\",\n",
    "    \"LastName\": \"Kumar\",\n",
    "    \"DOB\": \"May 9\",\n",
    "    \"Residence\": \"San Diego\",\n",
    "    \"Email\": \"alex.k.kumar@gmail.com\",\n",
    "    \"Phone\": \"iphone\"\n",
    "})\n",
    "\n",
    "InfoDb.append({\n",
    "    \"FirstName\": \"Maxie\",\n",
    "    \"LastName\": \"Kumar\",\n",
    "    \"DOB\": \"November 5\",\n",
    "    \"Residence\": \"San Diego\",\n",
    "    \"Email\": \"maxie.kumar@gmail.com\",\n",
    "    \"Phone\": \"no phone\"\n",
    "})\n"
   ]
  }
 ],
 "metadata": {
  "kernelspec": {
   "display_name": "Python 3.8.10 64-bit",
   "language": "python",
   "name": "python3"
  },
  "language_info": {
   "name": "python",
   "version": "3.8.10"
  },
  "orig_nbformat": 4,
  "vscode": {
   "interpreter": {
    "hash": "916dbcbb3f70747c44a77c7bcd40155683ae19c65e1c03b4aa3499c5328201f1"
   }
  }
 },
 "nbformat": 4,
 "nbformat_minor": 2
}
