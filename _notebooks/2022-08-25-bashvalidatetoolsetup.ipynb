{
 "cells": [
  {
   "cell_type": "markdown",
   "metadata": {},
   "source": [
    "# Bash toolset validation\n",
    "> Test to validate the downloaded tools\n",
    "\n",
    "- toc: true \n",
    "- badges: true\n",
    "- author: Alex Kumar\n",
    "- comments: true\n",
    "- categories: [jupyter]"
   ]
  },
  {
   "cell_type": "markdown",
   "metadata": {},
   "source": [
    "# Python Version"
   ]
  },
  {
   "cell_type": "code",
   "execution_count": 1,
   "metadata": {
    "vscode": {
     "languageId": "shellscript"
    }
   },
   "outputs": [
    {
     "name": "stdout",
     "output_type": "stream",
     "text": [
      "Python 3.9.12\n",
      "Python 2.7.18\n"
     ]
    }
   ],
   "source": [
    "#Shows current python version\n",
    "python --version\n",
    "python2 --version"
   ]
  },
  {
   "cell_type": "markdown",
   "metadata": {},
   "source": [
    "# Conda Packages"
   ]
  },
  {
   "cell_type": "code",
   "execution_count": 22,
   "metadata": {
    "vscode": {
     "languageId": "shellscript"
    }
   },
   "outputs": [
    {
     "name": "stdout",
     "output_type": "stream",
     "text": [
      "Test if jupyter was downloaded via conda\n",
      "There is jupyter\n",
      "Test if nodejs was downloaded via conda\n",
      "There is nodejs\n"
     ]
    }
   ],
   "source": [
    "#Function that checks to see if the package was downloaded via conda\n",
    "TestForPackage(){\n",
    "    echo \"Test if $1 was downloaded via conda\"\n",
    "    if conda list | grep -q $1; then\n",
    "        echo \"There is $1\"\n",
    "    else\n",
    "        echo \"There is no $1\"\n",
    "    fi\n",
    "}\n",
    "#Calls the function to test for packages\n",
    "TestForPackage \"jupyter\"\n",
    "TestForPackage \"nodejs\"\n",
    "\n",
    "\n"
   ]
  },
  {
   "cell_type": "markdown",
   "metadata": {},
   "source": [
    "# Jupyter Checks"
   ]
  },
  {
   "cell_type": "code",
   "execution_count": 23,
   "metadata": {
    "vscode": {
     "languageId": "shellscript"
    }
   },
   "outputs": [
    {
     "name": "stdout",
     "output_type": "stream",
     "text": [
      "Test if bash was installed\n",
      "There is bash\n",
      "Test if javascript was installed\n",
      "There is javascript\n",
      "Test if python3 was installed\n",
      "There is python3\n"
     ]
    }
   ],
   "source": [
    "#Function that tests for Jupyter packages\n",
    "TestForKernellInstallation(){\n",
    "    #outputs test\n",
    "    echo \"Test if $1 was installed\"\n",
    "    #checks jupyter kernelspec list to find the called package\n",
    "    if jupyter kernelspec list | grep -q $1; then\n",
    "        echo \"There is $1\"\n",
    "    else\n",
    "        echo \"There is no $1\"\n",
    "    fi\n",
    "}\n",
    "#calls the function for certain packages\n",
    "TestForKernellInstallation \"bash\"\n",
    "TestForKernellInstallation \"javascript\"\n",
    "TestForKernellInstallation \"python3\""
   ]
  }
 ],
 "metadata": {
  "kernelspec": {
   "display_name": "Bash",
   "language": "bash",
   "name": "bash"
  },
  "language_info": {
   "codemirror_mode": "shell",
   "file_extension": ".sh",
   "mimetype": "text/x-sh",
   "name": "bash"
  },
  "orig_nbformat": 4,
  "vscode": {
   "interpreter": {
    "hash": "916dbcbb3f70747c44a77c7bcd40155683ae19c65e1c03b4aa3499c5328201f1"
   }
  }
 },
 "nbformat": 4,
 "nbformat_minor": 2
}
