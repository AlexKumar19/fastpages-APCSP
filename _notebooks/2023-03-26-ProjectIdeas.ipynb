{
 "cells": [
  {
   "attachments": {},
   "cell_type": "markdown",
   "metadata": {},
   "source": [
    "# Project Planning for teaching\n",
    "> Ideas and code for simulation ideas\n",
    "- toc: true\n",
    "- comments: true\n",
    "- categories: [csp, jupyter]\n",
    "- permalink: /csp/ProjectPlanningsimulation/\n",
    "- tags: [python]\n",
    "- comments: true"
   ]
  },
  {
   "attachments": {},
   "cell_type": "markdown",
   "metadata": {},
   "source": [
    "# Big Teams Data Structures including List, Dictionaries, 2D arrays and Iteration (Big Idea 3)\n",
    "- To complete my CPT project, I intend to repurpose some of the code from my previous group project. During the last trimester, I was responsible for developing the backend code, where I designed a personality testing function that updated a separate database, a user profile that collected and encrypted user information for future access, and a sign-in/log-in feature. I plan to utilize the user profile components and incorporate database storage to a simple game like Snake. Essentially, I will create a game that allows players to store their scores in a user database and profiles. Since our previous group project was not personalized, we decided to pursue separate CPT projects, while still collaborating on a group project."
   ]
  },
  {
   "cell_type": "code",
   "execution_count": 4,
   "metadata": {},
   "outputs": [
    {
     "name": "stdout",
     "output_type": "stream",
     "text": [
      "[2]\n",
      "[2, 2]\n",
      "[2, 2, 6]\n"
     ]
    }
   ],
   "source": [
    "import random \n",
    "def spinnernum ():\n",
    "    spin = int(input(\"how many choices?\"))\n",
    "    random_number = random.randint(1, spin)\n",
    "    return random_number\n",
    "\n",
    "\n",
    "numbers = []\n",
    "\n",
    "def simulation ():\n",
    "    numbers.append(spinnernum())\n",
    "\n",
    "for i in range(3):\n",
    "    simulation()\n",
    "    print(numbers)\n",
    "\n"
   ]
  },
  {
   "attachments": {},
   "cell_type": "markdown",
   "metadata": {},
   "source": [
    "This is a simple simulation where you can see the list getting filled with random numbers\n",
    "- It takes the user input and uses the random library to input the numbers into the list\n",
    "- Here you can see how the list works"
   ]
  },
  {
   "cell_type": "code",
   "execution_count": 5,
   "metadata": {},
   "outputs": [
    {
     "name": "stdout",
     "output_type": "stream",
     "text": [
      "Dictionary contents:\n",
      "age -> 15\n",
      "gender -> male\n",
      "dog -> yes\n"
     ]
    }
   ],
   "source": [
    "\n",
    "my_dict = {}\n",
    "\n",
    "while True:\n",
    "    key = input(\"Enter a key (or 'stop' to exit): \")\n",
    "    if key == 'stop':\n",
    "        break\n",
    "    value = input(\"Enter a value: \")\n",
    "    my_dict[key] = value\n",
    "\n",
    "print(\"Dictionary contents:\")\n",
    "for key, value in my_dict.items():\n",
    "    print(key, \"->\", value)"
   ]
  },
  {
   "attachments": {},
   "cell_type": "markdown",
   "metadata": {},
   "source": [
    "- this is a simulation of a dictionary applying values to keys\n",
    "- This can be used to highlight the functionality of a dictionary and how quick it can be to access values"
   ]
  }
 ],
 "metadata": {
  "kernelspec": {
   "display_name": "base",
   "language": "python",
   "name": "python3"
  },
  "language_info": {
   "codemirror_mode": {
    "name": "ipython",
    "version": 3
   },
   "file_extension": ".py",
   "mimetype": "text/x-python",
   "name": "python",
   "nbconvert_exporter": "python",
   "pygments_lexer": "ipython3",
   "version": "3.9.12"
  },
  "orig_nbformat": 4
 },
 "nbformat": 4,
 "nbformat_minor": 2
}
