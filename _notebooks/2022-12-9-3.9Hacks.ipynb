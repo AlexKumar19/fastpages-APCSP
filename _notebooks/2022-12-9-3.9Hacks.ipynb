{
 "cells": [
  {
   "attachments": {},
   "cell_type": "markdown",
   "metadata": {},
   "source": [
    "# Hacks for Unit 3.9 to 3.11\n",
    "> Hacks for 3.9 to 3.11\n",
    "\n",
    "- toc: true\n",
    "- comments: true\n",
    "- categories: [csp, jupyter]\n",
    "- permalink: /csp/3111hacks\n",
    "- tags: [python]\n",
    "- comments: true"
   ]
  },
  {
   "attachments": {},
   "cell_type": "markdown",
   "metadata": {},
   "source": [
    "why is it important to know that algorithms that look different can do the same thing and that algorithms that look the same might have different results?(0.15)\n",
    "- It is important to know that algorithms that look different can do the same thing so that when working with others and people have various codes it is important to open your mind to understand the code rather than rejecting it because it looks differet. It is also important to know that even code that looks similar can have different purposes so we dont jump to conclusions when evaluating code\n",
    "for the converted conditional to boolean conversion(0.10)\n",
    "total: 0.25"
   ]
  },
  {
   "cell_type": "code",
   "execution_count": 1,
   "metadata": {},
   "outputs": [
    {
     "name": "stdout",
     "output_type": "stream",
     "text": [
      "it is cold and rainy\n"
     ]
    }
   ],
   "source": [
    "sun = False\n",
    "raincloud = True\n",
    "\n",
    "if sun == True:\n",
    "    print(\"it is sunny\")\n",
    "else:\n",
    "    if raincloud == True:\n",
    "        print(\"it is cold and rainy\")\n",
    "    else:\n",
    "        print(\"not rainy or hot\")"
   ]
  },
  {
   "cell_type": "code",
   "execution_count": 2,
   "metadata": {},
   "outputs": [
    {
     "name": "stdout",
     "output_type": "stream",
     "text": [
      "it is not sunny\n"
     ]
    }
   ],
   "source": [
    "sun = False\n",
    "raincloud = True\n",
    "\n",
    "sunny = not(raincloud) and sun\n",
    "if sunny == True:\n",
    "    print(\"it is sunny\")\n",
    "if sunny ==False:\n",
    "    print(\"it is not sunny\")"
   ]
  },
  {
   "attachments": {},
   "cell_type": "markdown",
   "metadata": {},
   "source": [
    "# 3.9.2\n",
    "Develop your own complex algorithm using a flowchart and natural language, then code it!\n",
    "\n",
    "If the party has a size 1 the cost is 10\n",
    "If the party has size 2 the cost is 15\n",
    "If the party has size 3 then the cost is 20\n",
    "if the party has size 4 then the cost is 25\n",
    "print the cost of the party\n",
    "\n",
    "<html>\n",
    "<img src=https://raw.githubusercontent.com/AlexKumar19/fastpages-APCSP/master/images/partysize.png>\n",
    "</html>"
   ]
  },
  {
   "cell_type": "code",
   "execution_count": 3,
   "metadata": {},
   "outputs": [
    {
     "name": "stdout",
     "output_type": "stream",
     "text": [
      "cost is 25\n"
     ]
    }
   ],
   "source": [
    "partysize = 4\n",
    "\n",
    "if partysize ==1:\n",
    "    print(\"cost is 10\")\n",
    "elif partysize ==2:\n",
    "    print(\"cost is 15\")\n",
    "elif partysize ==3:\n",
    "    print(\"cost is 20\")\n",
    "elif partysize ==4:\n",
    "    print(\"cost is 25\")\n"
   ]
  },
  {
   "attachments": {},
   "cell_type": "markdown",
   "metadata": {},
   "source": [
    "# 3.9.3\n",
    "Fix the number guessing game\n",
    "\n",
    "Make a flow chart for the algorithm number guessing game\n",
    "Make a function that gets the user guess\n",
    "Modify the existing search function to give more encouraging feedback\n",
    "\n",
    "<html>\n",
    "<img src=https://raw.githubusercontent.com/AlexKumar19/fastpages-APCSP/master/images/guess.png>\n",
    "</html>\n"
   ]
  },
  {
   "cell_type": "code",
   "execution_count": 4,
   "metadata": {},
   "outputs": [
    {
     "name": "stdout",
     "output_type": "stream",
     "text": [
      "I'm thinking of a number between 1 and 100.\n",
      "You guessed 50.\n",
      "above the actual\n",
      "Guess a number between 0 and 50.\n",
      "You guessed 30.\n",
      "above the actual\n",
      "Guess a number between 0 and 30.\n",
      "You guessed 10.\n",
      "above the actual\n",
      "Guess a number between 0 and 10.\n",
      "You guessed 10.\n",
      "above the actual\n",
      "Guess a number between 0 and 10.\n",
      "You guessed 5.\n",
      "below the actual\n",
      "Guess a number between 5 and 10.\n",
      "You guessed 7.\n",
      "below the actual\n",
      "Guess a number between 7 and 10.\n",
      "You guessed 8.\n",
      "below the actual\n",
      "Guess a number between 8 and 10.\n",
      "You guessed 9.\n",
      "You guessed the number in 8 guesses!\n"
     ]
    }
   ],
   "source": [
    "import random\n",
    "\n",
    "#sets variables for the game\n",
    "num_guesses = 0\n",
    "user_guess = 0\n",
    "upper_bound = 100\n",
    "lower_bound = 0\n",
    "\n",
    "#generates a random number\n",
    "number = random.randint(1,100)\n",
    "\n",
    "# print(number)     #for testing purposes\n",
    "\n",
    "print(f\"I'm thinking of a number between 1 and 100.\")\n",
    "\n",
    "#Write a function that gets a guess from the user using input()\n",
    "def guess():\n",
    "    out = input(\"What number?\")\n",
    "    return out \n",
    "\n",
    "#Change the print statements to give feedback on whether the player guessed too high or too low\n",
    "def search(number, guess):\n",
    "    global lower_bound, upper_bound\n",
    "    if int(guess) < int(number):\n",
    "        print(\"below the actual\") #change this\n",
    "        lower_bound = guess\n",
    "    elif int(guess) > int(number):\n",
    "        print(\"above the actual\") #change this\n",
    "        upper_bound = guess\n",
    "    elif int(guess) == int(number):\n",
    "        upper_bound = guess\n",
    "    return lower_bound, upper_bound\n",
    "\n",
    "\n",
    "while user_guess != number:\n",
    "    user_guess = guess()\n",
    "    num_guesses += 1\n",
    "    print(f\"You guessed {user_guess}.\")\n",
    "    lower_bound, upper_bound = search(number, user_guess)\n",
    "    if int(upper_bound) == int(number):\n",
    "        break\n",
    "    else: print(f\"Guess a number between {lower_bound} and {upper_bound}.\")\n",
    "print(f\"You guessed the number in {num_guesses} guesses!\")"
   ]
  },
  {
   "attachments": {},
   "cell_type": "markdown",
   "metadata": {},
   "source": [
    "Hacks:\n",
    "calculate the middle index and create a binary tree for each of these lists\n",
    "12, 14, 43, 57, 79, 80, 99\n",
    "92, 43, 74, 66, 30, 12, 1\n",
    "7, 13, 96, 111, 33, 84, 60\n",
    "\n",
    "<html>\n",
    "<img src=https://raw.githubusercontent.com/AlexKumar19/fastpages-APCSP/master/images/tree.png>\n",
    "</html>"
   ]
  },
  {
   "cell_type": "code",
   "execution_count": 5,
   "metadata": {},
   "outputs": [
    {
     "name": "stdout",
     "output_type": "stream",
     "text": [
      "Middle Index of List # 1 is 57\n",
      "Middle Index of List # 2 is 43\n",
      "Middle Index of List # 3 is 60\n"
     ]
    }
   ],
   "source": [
    "# defining the number lists\n",
    "One = [12,14,44,57,79,80,99]\n",
    "Two = [92,43,74,66,30,12,1]\n",
    "Three = [7,13,96,111,33,84,60]\n",
    "Lists = [One, Two, Three]\n",
    "# loops through the range of the length of lists\n",
    "for x in range(len(Lists)):\n",
    "    #sorts the list in order\n",
    "    Lists[x].sort()\n",
    "    #takes the middle index \n",
    "    middleindex = int(len(Lists[x])/2)\n",
    "    #outputs\n",
    "    print(\"Middle Index of List #\",x+1,\"is\",Lists[x][middleindex])"
   ]
  },
  {
   "attachments": {},
   "cell_type": "markdown",
   "metadata": {},
   "source": [
    "Using one of the sets of numbers from the question above, what would be the second number looked at in a binary search if the number is more than the middle number?\n",
    "Set 1: 80, Set 2: 74, Set 3: 96"
   ]
  },
  {
   "attachments": {},
   "cell_type": "markdown",
   "metadata": {},
   "source": [
    "Which of the following lists can NOT a binary search be used in order to find a targeted value?\n",
    "\n",
    "a. [\"amy\", \"beverly\", \"christian\", \"devin\"]\n",
    "\n",
    "b. [-1, 2, 6, 9, 19]\n",
    "\n",
    "c. [3, 2, 8, 12, 99]\n",
    "\n",
    "d. [\"xylophone\", \"snowman\", \"snake\", \"doorbell\", \"author\"]\n",
    "\n",
    "c is out of orderso therefore it is c"
   ]
  }
 ],
 "metadata": {
  "kernelspec": {
   "display_name": "Python 3",
   "language": "python",
   "name": "python3"
  },
  "language_info": {
   "codemirror_mode": {
    "name": "ipython",
    "version": 3
   },
   "file_extension": ".py",
   "mimetype": "text/x-python",
   "name": "python",
   "nbconvert_exporter": "python",
   "pygments_lexer": "ipython3",
   "version": "3.8.10 (default, Jun 22 2022, 20:18:18) \n[GCC 9.4.0]"
  },
  "orig_nbformat": 4,
  "vscode": {
   "interpreter": {
    "hash": "916dbcbb3f70747c44a77c7bcd40155683ae19c65e1c03b4aa3499c5328201f1"
   }
  }
 },
 "nbformat": 4,
 "nbformat_minor": 2
}
