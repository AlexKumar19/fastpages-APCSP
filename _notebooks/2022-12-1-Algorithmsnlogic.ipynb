{
 "cells": [
  {
   "cell_type": "markdown",
   "metadata": {},
   "source": [
    "# API Testing!\n",
    "> Using an API to important data for our Scrum Project\n",
    "\n",
    "- toc: true\n",
    "- comments: true\n",
    "- categories: [csp, jupyter]\n",
    "- permalink: /csp/APITestingnotebook\n",
    "- tags: [python]\n",
    "- comments: true"
   ]
  },
  {
   "cell_type": "markdown",
   "metadata": {},
   "source": [
    "# This uses python to make a fibonaccie sequence"
   ]
  },
  {
   "cell_type": "code",
   "execution_count": 7,
   "metadata": {},
   "outputs": [
    {
     "name": "stdout",
     "output_type": "stream",
     "text": [
      "0\n",
      "1\n",
      "1\n",
      "2\n",
      "3\n",
      "5\n",
      "8\n",
      "13\n",
      "21\n",
      "34\n"
     ]
    }
   ],
   "source": [
    "# 1 1 2 3 5 8 \n",
    "def fibonacci(n):\n",
    "    numbers = []\n",
    "    for i in range(n):\n",
    "        if i == 0 :\n",
    "            print(\"0\")\n",
    "            numbers.append(0)\n",
    "        elif i ==1 :\n",
    "            print(\"1\")\n",
    "            numbers.append(1)\n",
    "        else:\n",
    "            print(numbers[i-2] +numbers[i-1])\n",
    "            numbers.append(numbers[i-1] + numbers[i-2])\n",
    "\n",
    "fibonacci(10) # calls the function fibonacci and gives in 10 "
   ]
  },
  {
   "cell_type": "markdown",
   "metadata": {},
   "source": [
    "# This also runs the fibonacci however in javascript"
   ]
  },
  {
   "cell_type": "code",
   "execution_count": 1,
   "metadata": {},
   "outputs": [
    {
     "name": "stdout",
     "output_type": "stream",
     "text": [
      "0\n",
      "1\n",
      "1\n",
      "2\n",
      "3\n",
      "5\n",
      "8\n"
     ]
    }
   ],
   "source": [
    "function fibonacci(n) {\n",
    "    var numbers = []\n",
    "    for (let i = 0; i < n; i++) {\n",
    "        if (i===0) {\n",
    "            numbers.push(0)\n",
    "            console.log(\"0\")\n",
    "        } else if (i===1) {\n",
    "            numbers.push(1)\n",
    "            console.log(\"1\")\n",
    "        } else {\n",
    "            numbers.push(numbers[i-2] + numbers[i-1])\n",
    "            console.log(numbers[i-2] + numbers[i-1]) \n",
    "        }\n",
    "    }\n",
    "}\n",
    "fibonacci(7)"
   ]
  },
  {
   "cell_type": "markdown",
   "metadata": {},
   "source": [
    "<html>\n",
    "<input type=\"text\" id=\"input\" placeholder=\"give palindrome\"></input> \n",
    "</html>\n",
    "<script>\n",
    "var input = document.getElementbyId(\"input\")\n",
    "console.log(input)\n",
    "</script>"
   ]
  }
 ],
 "metadata": {
  "kernelspec": {
   "display_name": "JavaScript (Node.js)",
   "language": "javascript",
   "name": "javascript"
  },
  "language_info": {
   "file_extension": ".js",
   "mimetype": "application/javascript",
   "name": "javascript",
   "version": "6.11.2"
  },
  "orig_nbformat": 4,
  "vscode": {
   "interpreter": {
    "hash": "916dbcbb3f70747c44a77c7bcd40155683ae19c65e1c03b4aa3499c5328201f1"
   }
  }
 },
 "nbformat": 4,
 "nbformat_minor": 2
}
