{
 "cells": [
  {
   "cell_type": "markdown",
   "metadata": {},
   "source": [
    "# Algorithms and logic\n",
    "> Algoritms and logic\n",
    "\n",
    "- toc: true\n",
    "- comments: true\n",
    "- categories: [csp, jupyter]\n",
    "- permalink: /csp/Algorithmsandlogic\n",
    "- tags: [python]\n",
    "- comments: true"
   ]
  },
  {
   "cell_type": "markdown",
   "metadata": {},
   "source": [
    "# This uses python to make a fibonacci sequence"
   ]
  },
  {
   "cell_type": "code",
   "execution_count": 7,
   "metadata": {},
   "outputs": [
    {
     "name": "stdout",
     "output_type": "stream",
     "text": [
      "0\n",
      "1\n",
      "1\n",
      "2\n",
      "3\n",
      "5\n",
      "8\n",
      "13\n",
      "21\n",
      "34\n"
     ]
    }
   ],
   "source": [
    "# 1 1 2 3 5 8 \n",
    "def fibonacci(n):\n",
    "    numbers = []\n",
    "    for i in range(n):\n",
    "        if i == 0 :\n",
    "            print(\"0\")\n",
    "            numbers.append(0)\n",
    "        elif i ==1 :\n",
    "            print(\"1\")\n",
    "            numbers.append(1)\n",
    "        else:\n",
    "            print(numbers[i-2] +numbers[i-1])\n",
    "            numbers.append(numbers[i-1] + numbers[i-2])\n",
    "\n",
    "fibonacci(10) # calls the function fibonacci and gives in 10 "
   ]
  },
  {
   "cell_type": "markdown",
   "metadata": {},
   "source": [
    "# This also runs the fibonacci however in javascript"
   ]
  },
  {
   "cell_type": "code",
   "execution_count": 1,
   "metadata": {},
   "outputs": [
    {
     "name": "stdout",
     "output_type": "stream",
     "text": [
      "0\n",
      "1\n",
      "1\n",
      "2\n",
      "3\n",
      "5\n",
      "8\n"
     ]
    }
   ],
   "source": [
    "function fibonacci(n) {\n",
    "    var numbers = []\n",
    "    for (let i = 0; i < n; i++) {\n",
    "        if (i===0) {\n",
    "            numbers.push(0)\n",
    "            console.log(\"0\")\n",
    "        } else if (i===1) {\n",
    "            numbers.push(1)\n",
    "            console.log(\"1\")\n",
    "        } else {\n",
    "            numbers.push(numbers[i-2] + numbers[i-1])\n",
    "            console.log(numbers[i-2] + numbers[i-1]) \n",
    "        }\n",
    "    }\n",
    "}\n",
    "fibonacci(7)"
   ]
  },
  {
   "cell_type": "markdown",
   "metadata": {},
   "source": [
    "# This uses javascript and html to test for a palindrome"
   ]
  },
  {
   "cell_type": "code",
   "execution_count": null,
   "metadata": {},
   "outputs": [],
   "source": [
    "// <input type=\"text\" id=\"input\" placeholder=\"give palindrome\" class=\"form-control\"> <input type=\"text\" id=\"text\" placeholder=\"palindrome?\" class=\"form-control\">\n",
    "\n",
    "<script>\n",
    "var input = document.getElementById(\"input\")\n",
    "document.getElementById(\"input\").addEventListener(\"change\", Palindrome);\n",
    "function Palindrome() {\n",
    "    console.log(document.getElementById(\"input\").value)\n",
    "    const word = document.getElementById(\"input\").value\n",
    "    var reverse = \"\"\n",
    "    for (var i = word.length - 1; i >= 0; i--) { \n",
    "        reverse += word[i]; \n",
    "    }\n",
    "    console.log(reverse)\n",
    "    if (reverse== word) {\n",
    "        document.getElementById(\"text\").value = \"this is a palindrome\"\n",
    "    } else {\n",
    "        document.getElementById(\"text\").value = \"this is not a palindrome\"\n",
    "    }\n",
    "}\n",
    "\n",
    "</script>"
   ]
  },
  {
   "cell_type": "markdown",
   "metadata": {},
   "source": [
    "\n",
    "<input type=\"text\" id=\"input\" placeholder=\"give palindrome\" class=\"form-control\"> <input type=\"text\" id=\"text\" placeholder=\"palindrome?\" class=\"form-control\">\n",
    "\n",
    "<script>\n",
    "var input = document.getElementById(\"input\")\n",
    "document.getElementById(\"input\").addEventListener(\"change\", Palindrome);\n",
    "function Palindrome() {\n",
    "    console.log(document.getElementById(\"input\").value)\n",
    "    const word = document.getElementById(\"input\").value\n",
    "    var reverse = \"\"\n",
    "    for (var i = word.length - 1; i >= 0; i--) { \n",
    "        reverse += word[i]; \n",
    "    }\n",
    "    console.log(reverse)\n",
    "    if (reverse== word) {\n",
    "        document.getElementById(\"text\").value = \"this is a palindrome\"\n",
    "    } else {\n",
    "        document.getElementById(\"text\").value = \"this is not a palindrome\"\n",
    "    }\n",
    "}\n",
    "\n",
    "</script>\n"
   ]
  },
  {
   "cell_type": "markdown",
   "metadata": {},
   "source": [
    "# TRUTH TABLE"
   ]
  },
  {
   "cell_type": "markdown",
   "metadata": {},
   "source": [
    "\n",
    "<p id=\"text1\" style=\"padding: 15px; line-height: 1.6; border: 1px solid white; width: 150px\">\n",
    "<script>\n",
    "function truth(){\n",
    "    var data = [[1,1], [1,0], [0,1], [0,0]];\n",
    "    var text = \"\"\n",
    "    for(let i =0; i < data.length; i++) {\n",
    "        text += data[i][0] + \"&\" + data[i][1] + \"-->\" + (data[i][0] & data[i][1]).toString() + \"<br>\"\n",
    "    }\n",
    "    for(let i =0; i < data.length; i++) {\n",
    "        text += data[i][0] + \"|\" + data[i][1] + \"-->\" + (data[i][0] | data[i][1]).toString() + \"<br>\"  \n",
    "    }\n",
    "    for(let i =0; i < data.length; i++) {\n",
    "        text += data[i][0] + \"^\" + data[i][1] + \"-->\" + (data[i][0] ^ data[i][1]).toString() + \"<br>\"\n",
    "    }\n",
    "    let newdata = [1,0]\n",
    "    for(let i =0; i < newdata.length; i++) {\n",
    "        text += \"~\" + newdata[i] + \"=\" + ~newdata[i] + \"<br>\"\n",
    "    }\n",
    "    document.getElementById(\"text1\").innerHTML = text\n",
    "}\n",
    "truth()\n",
    "\n",
    "</script>"
   ]
  },
  {
   "cell_type": "code",
   "execution_count": null,
   "metadata": {},
   "outputs": [],
   "source": [
    "{/* <p id=\"text1\" style=\"padding: 15px; line-height: 1.6; border: 1px solid white; width: 150px\">\n",
    "<script> */}\n",
    "function truth(){\n",
    "    var data = [[1,1], [1,0], [0,1], [0,0]];\n",
    "    var text = \"\"\n",
    "    for(let i =0; i < data.length; i++) {\n",
    "        text += data[i][0] + \"&\" + data[i][1] + \"-->\" + (data[i][0] & data[i][1]).toString() + \"<br>\"\n",
    "    }\n",
    "    for(let i =0; i < data.length; i++) {\n",
    "        text += data[i][0] + \"|\" + data[i][1] + \"-->\" + (data[i][0] | data[i][1]).toString() + \"<br>\"  \n",
    "    }\n",
    "    for(let i =0; i < data.length; i++) {\n",
    "        text += data[i][0] + \"^\" + data[i][1] + \"-->\" + (data[i][0] ^ data[i][1]).toString() + \"<br>\"\n",
    "    }\n",
    "    let newdata = [1,0]\n",
    "    for(let i =0; i < newdata.length; i++) {\n",
    "        text += \"~\" + newdata[i] + \"=\" + ~newdata[i] + \"<br>\"\n",
    "    }\n",
    "    document.getElementById(\"text1\").innerHTML = text\n",
    "}\n",
    "truth()\n",
    "\n",
    "</script>"
   ]
  },
  {
   "cell_type": "markdown",
   "metadata": {},
   "source": [
    "Come up with a Procedure/Function that show...\n",
    "\n",
    "The function that I created is the truth function that generates a truth table using binary data\n",
    "\n",
    "Data Abstraction\n",
    "- uses an array of arrays with binary data that will represent the rows in the truth table\n",
    "Procedural Abstraction\n",
    "- I made a truth function that runs an algorithm that populates the truth table, this can be called to multiple times because it is a function\n",
    "Algorithm using iteration and selection\n",
    "- I used multiple loops to parse through the binary data and evaluate the binary logic to determine whether the statements where true\n",
    "- if statements can be used to check if the binary logic was true or not\n",
    "Frontend / Backend, using an API and persistent storage\n",
    "- made html text box that was populated by the javascript\n"
   ]
  }
 ],
 "metadata": {
  "kernelspec": {
   "display_name": "JavaScript (Node.js)",
   "language": "javascript",
   "name": "javascript"
  },
  "language_info": {
   "file_extension": ".js",
   "mimetype": "application/javascript",
   "name": "javascript",
   "version": "6.11.2"
  },
  "orig_nbformat": 4,
  "vscode": {
   "interpreter": {
    "hash": "916dbcbb3f70747c44a77c7bcd40155683ae19c65e1c03b4aa3499c5328201f1"
   }
  }
 },
 "nbformat": 4,
 "nbformat_minor": 2
}
