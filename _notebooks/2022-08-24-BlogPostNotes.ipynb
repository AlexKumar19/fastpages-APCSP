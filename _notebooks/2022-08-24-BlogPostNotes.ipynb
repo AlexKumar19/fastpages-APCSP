{
 "cells": [
  {
   "cell_type": "markdown",
   "metadata": {},
   "source": [
    "# Blog Post Notes 08/24/22\n",
    "> Basics of Python quiz\n",
    "\n",
    "- toc: true \n",
    "- badges: true\n",
    "- author: Alex Kumar\n",
    "- comments: true\n",
    "- categories: [jupyter, csp]"
   ]
  },
  {
   "cell_type": "markdown",
   "metadata": {},
   "source": [
    "# Front Matter\n",
    "\n",
    "Each markdown or jupyter post contains a set configurations at the head of the file known as Front-Matter. Front-matter settings can change many things including TOC, author, and you can also hide documents"
   ]
  },
  {
   "cell_type": "markdown",
   "metadata": {},
   "source": [
    "```md\n",
    "> Basics of Python quiz\n",
    "\n",
    "- toc: true \n",
    "- badges: true\n",
    "- author: Alex Kumar\n",
    "- comments: true\n",
    "- categories: [jupyter, csp]\n",
    "```\n",
    "This is an example of front matter and this will set the author, tags, and allow comments"
   ]
  },
  {
   "cell_type": "markdown",
   "metadata": {},
   "source": [
    "# _config.yml\n",
    "lots of defautl settings can be changed whithin the repositories config file. This allows for pictures and description extensions. This allows for more customization."
   ]
  }
 ],
 "metadata": {
  "kernelspec": {
   "display_name": "Python 3.8.10 64-bit",
   "language": "python",
   "name": "python3"
  },
  "language_info": {
   "name": "python",
   "version": "3.8.10"
  },
  "orig_nbformat": 4,
  "vscode": {
   "interpreter": {
    "hash": "916dbcbb3f70747c44a77c7bcd40155683ae19c65e1c03b4aa3499c5328201f1"
   }
  }
 },
 "nbformat": 4,
 "nbformat_minor": 2
}
